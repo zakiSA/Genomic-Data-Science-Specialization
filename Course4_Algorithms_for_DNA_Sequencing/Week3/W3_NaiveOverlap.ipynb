{
 "cells": [
  {
   "cell_type": "code",
   "execution_count": 5,
   "metadata": {},
   "outputs": [
    {
     "name": "stdout",
     "output_type": "stream",
     "text": [
      "[(1,), (2,), (3,)]\n",
      "[(1, 2), (1, 3), (2, 1), (2, 3), (3, 1), (3, 2)]\n",
      "[(1, 2, 3), (1, 3, 2), (2, 1, 3), (2, 3, 1), (3, 1, 2), (3, 2, 1)]\n"
     ]
    }
   ],
   "source": [
    "from itertools import permutations\n",
    "\n",
    "print(list(permutations([1,2,3], 1)))# The numbers and the length\n",
    "# this gives us all permutations of size 1\n",
    "\n",
    "print(list(permutations([1,2,3], 2)))# The numbers and the length\n",
    "# this gives us all permutations of size 2\n",
    "\n",
    "print(list(permutations([1,2,3], 3)))# The numbers and the length\n",
    "# this gives us all permutations of size 3"
   ]
  },
  {
   "cell_type": "code",
   "execution_count": 6,
   "metadata": {},
   "outputs": [],
   "source": [
    "# Function to find overlapa beterrn two reads a and b where suffix of a matches prefix of b\n",
    "'''Return length of the longest suffix of 'a' matching a prefix of 'b' that is at \n",
    "   least min_length characters long.If no overlap exists return  0 if no overlap \n",
    "  '''\n",
    "def overlap(a,b, min_length=3): #arguments as two strings a and b and mimimum length of overlap\n",
    "    start = 0 # start all the way at the left\n",
    "    while True:\n",
    "        start = a.find(b[:min_length], start) # look for b suffix in a\n",
    "                                 # start tells function to start looking from this index in a       \n",
    "        if start == -1:   # no  more occurrence to the right\n",
    "            return 0     #then reurn 0\n",
    "        if b.startswith(a[start:]):  # If there is an overlap, verify that prefix of b is equal to suffix of a starting at position start\n",
    "            return len(a) - start  # return the length of the longest overlap\n",
    "        start += 1 # move just past previous position, if its not true we re-enter loop and we need to implement the start by 1 before that    "
   ]
  },
  {
   "cell_type": "code",
   "execution_count": 12,
   "metadata": {},
   "outputs": [],
   "source": [
    "def naive_overlap_map(reads,k): # k is minimum overlap\n",
    "    olaps = {} #Initialize overlaps dictionary\n",
    "    for a,b in permutations(reads,2): # for each pair of reads in permutations\n",
    "        olap_len = overlap(a, b, min_length=k)\n",
    "        if olap_len > 0:\n",
    "            olaps[(a,b)] = olap_len\n",
    "            \n",
    "    return olaps       \n",
    "        \n",
    "    "
   ]
  },
  {
   "cell_type": "code",
   "execution_count": 14,
   "metadata": {},
   "outputs": [
    {
     "name": "stdout",
     "output_type": "stream",
     "text": [
      "{('ACGGATGATC', 'GATCAAGT'): 4, ('TTCACGGA', 'ACGGATGATC'): 5}\n"
     ]
    }
   ],
   "source": [
    "reads = ['ACGGATGATC','GATCAAGT','TTCACGGA']\n",
    "print(naive_overlap_map(reads,3))"
   ]
  },
  {
   "cell_type": "code",
   "execution_count": null,
   "metadata": {},
   "outputs": [],
   "source": []
  }
 ],
 "metadata": {
  "kernelspec": {
   "display_name": "Python 3",
   "language": "python",
   "name": "python3"
  },
  "language_info": {
   "codemirror_mode": {
    "name": "ipython",
    "version": 3
   },
   "file_extension": ".py",
   "mimetype": "text/x-python",
   "name": "python",
   "nbconvert_exporter": "python",
   "pygments_lexer": "ipython3",
   "version": "3.7.4"
  }
 },
 "nbformat": 4,
 "nbformat_minor": 4
}
