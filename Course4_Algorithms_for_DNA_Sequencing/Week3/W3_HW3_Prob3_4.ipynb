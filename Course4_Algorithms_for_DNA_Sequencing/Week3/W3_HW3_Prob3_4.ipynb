{
 "cells": [
  {
   "cell_type": "markdown",
   "metadata": {
    "id": "kCU4Xx9o6nYU"
   },
   "source": [
    "### Algorithms for DNA sequencing: Programming Homework 3 Problems 3-4"
   ]
  },
  {
   "cell_type": "code",
   "execution_count": null,
   "metadata": {},
   "outputs": [],
   "source": [
    "3.\n",
    "Question 3\n",
    "In a practical, we saw a function for finding the longest exact overlap (suffix/prefix match) between two strings. \n",
    "The function is copied below."
   ]
  },
  {
   "cell_type": "code",
   "execution_count": null,
   "metadata": {},
   "outputs": [],
   "source": [
    "def overlap(a, b, min_length=3):\n",
    "    \"\"\" Return length of longest suffix of 'a' matching\n",
    "        a prefix of 'b' that is at least 'min_length'\n",
    "        characters long.  If no such overlap exists,\n",
    "        return 0. \"\"\"\n",
    "    start = 0  # start all the way at the left\n",
    "    while True:\n",
    "        start = a.find(b[:min_length], start)  # look for b's prefix in a\n",
    "        if start == -1:  # no more occurrences to right\n",
    "            return 0\n",
    "        # found occurrence; check for full suffix/prefix match\n",
    "        if b.startswith(a[start:]):\n",
    "            return len(a)-start\n",
    "        start += 1  # move just past previous match"
   ]
  },
  {
   "cell_type": "markdown",
   "metadata": {},
   "source": [
    "Say we are concerned only with overlaps that (a) are exact matches (no differences allowed), and (b) are at least \\verb|k|k bases long. To make an overlap graph, we could call \\verb|overlap(a, b, min_length=k)|overlap(a, b, min_length=k) on every possible pair of reads from the dataset.  Unfortunately, that will be very slow!\n",
    "\n",
    "Consider this: Say we are using k=6, and we have a read \\verb|a|a whose length-6 suffix is \\verb|GTCCTA|GTCCTA.  Say \\verb|GTCCTA|GTCCTA does not occur in any other read in the dataset.  In other words, the 6-mer \\verb|GTCCTA|GTCCTA occurs at the end of read \\verb|a|a and nowhere else.  It follows that \\verb|a|a's suffix cannot possibly overlap the prefix of any other read by 6 or more characters.\n",
    "\n",
    "Put another way, if we want to find the overlaps involving a suffix of read \\verb|a|a and a prefix of some other read, we can ignore any reads that don't contain the length-k suffix of \\verb|a|a.  This is good news because it can save us a lot of work!\n",
    "\n",
    "Here is a suggestion for how to implement this idea.  You don't have to do it this way, but this might help you.  Let every k-mer in the dataset have an associated Python \\verb|set|set object, which starts out empty.  We use a Python dictionary to associate each k-mer with its corresponding \\verb|set|set. (1) For every k-mer in a read, we add the read to the \\verb|set|set object corresponding to that k-mer.  If our read is \\verb|GATTA|GATTA and k=3, we would add \\verb|GATTA|GATTA to the \\verb|set|set objects for \\verb|GAT|GAT, \\verb|ATT|ATT and \\verb|TTA|TTA.  We do this for every read so that, at the end, each \\verb|set|set contains all reads containing the corresponding k-mer.  (2) Now, for each read \\verb|a|a, we find all overlaps involving a suffix of \\verb|a|a.  To do this, we take \\verb|a|a's length-k suffix, find all reads containing that k-mer (obtained from the corresponding \\verb|set|set) and call \\verb|overlap(a, b, min_length=k)|overlap(a, b, min_length=k) for each.\n",
    "\n",
    "The most important point is that we do not call \\verb|overlap(a, b, min_length=k)|overlap(a, b, min_length=k) if \\verb|b|b does not contain the length-k suffix of \\verb|a|a.\n",
    "\n",
    "Download and parse the read sequences from the provided Phi-X FASTQ file. We'll just use their base sequences, so you can ignore read names and base qualities.  Also, no two reads in the FASTQ have the same sequence of bases.  This makes things simpler.\n",
    "\n",
    "https://d28rh4a8wq0iu5.cloudfront.net/ads1/data/ERR266411_1.for_asm.fastq\n",
    "\n",
    "Next, find all pairs of reads with an exact suffix/prefix match of length at least 30. Don't overlap a read with itself; if a read has a suffix/prefix match to itself, ignore that match.  Ignore reverse complements.\n",
    "\n",
    "Hint 1: Your function should not take much more than 15 seconds to run on this 10,000-read dataset, and maybe much less than that.  (Our solution takes about 3 seconds.) If your function is much slower, there is a problem somewhere.\n",
    "\n",
    "Hint 2: Remember not to overlap a read with itself. If you do, your answers will be too high.\n",
    "\n",
    "Hint 3: You can test your implementation by making up small examples, then checking that (a) your implementation runs quickly, and (b) you get the same answer as if you had simply called \\verb|overlap(a, b, min_length=k)|overlap(a, b, min_length=k) on every pair of reads.  We also have provided a couple examples you can check against.\n",
    "\n"
   ]
  },
  {
   "cell_type": "markdown",
   "metadata": {},
   "source": [
    "Q3: Picture the overlap graph corresponding to the overlaps just calculated.  How many edges are in the graph?  In other words, how many distinct pairs of reads overlap?"
   ]
  },
  {
   "cell_type": "code",
   "execution_count": null,
   "metadata": {
    "id": "3aC3zq5J6nYV"
   },
   "outputs": [],
   "source": [
    "# problem 3 & 4\n",
    "# Read FASTQ function#\n",
    "######################\n",
    "\n",
    "def readFastq(filename):\n",
    "    sequences = []\n",
    "    qualities = []\n",
    "    with open(filename) as fh:\n",
    "        while True:\n",
    "            fh.readline() # skip name line\n",
    "            seq = fh.readline().rstrip() # read base sequence\n",
    "            fh.readline() # skip placeholder line\n",
    "            qual = fh.readline().rstrip() #base quality line\n",
    "            if len(seq) == 0:\n",
    "                break\n",
    "            sequences.append(seq)\n",
    "            qualities.append(qual)\n",
    "    return sequences, qualities"
   ]
  },
  {
   "cell_type": "code",
   "execution_count": null,
   "metadata": {
    "id": "p96Kvc4M6nYV"
   },
   "outputs": [],
   "source": [
    "reads, _ = readFastq('ERR266411_1.for_asm.fastq')"
   ]
  },
  {
   "cell_type": "code",
   "execution_count": null,
   "metadata": {
    "id": "ArlKH79F6nYV",
    "outputId": "ceefaa21-5392-40a5-bd55-bf42c23057e0"
   },
   "outputs": [
    {
     "data": {
      "text/plain": [
       "10000"
      ]
     },
     "execution_count": 3,
     "metadata": {},
     "output_type": "execute_result"
    }
   ],
   "source": [
    "len(reads)"
   ]
  },
  {
   "cell_type": "code",
   "execution_count": null,
   "metadata": {
    "id": "F1xp-nXe6nYV"
   },
   "outputs": [],
   "source": [
    "# Answer 3 & 4\n",
    "#Build dictionary of kmers\n",
    "from collections import defaultdict\n",
    "\n",
    "def kmer_dictionary(reads,k):    \n",
    "    kmer_dict = defaultdict()\n",
    "    for read in reads:\n",
    "        for i in range(len(read)): # go through list of reads\n",
    "            kmer = read[i:i+k] # get the k-mers\n",
    "            if len(kmer)== k:  # if k-mer is of length k\n",
    "                if kmer not in kmer_dict:  #Add k-mer as key of dict\n",
    "                    kmer_dict[kmer] = set() # initialize all values as empty set()\n",
    "                kmer_dict[kmer].add(read)  # Add the read that the kmer is found in to the set of values  \n",
    "    return kmer_dict   "
   ]
  },
  {
   "cell_type": "code",
   "execution_count": null,
   "metadata": {
    "id": "nco1yLHb6nYV"
   },
   "outputs": [],
   "source": [
    "# Answer 3 & 4\n",
    "def overlap(a,b, min_length=30): #arguments as two strings a and b and mimimum length of overlap\n",
    "    start = 0 # start all the way at the left\n",
    "    #all_overlaps = []\n",
    "\n",
    "    while True:\n",
    "        start = a.find(b[:min_length], start) # look for b suffix in \n",
    "        # start tells function to start looking from this index in a \n",
    "        if start == -1:   # no  more occurrence to the right\n",
    "            return 0     #then reurn 0\n",
    "        if b.startswith(a[start:]):  # If there is an overlap, verify that prefix of b is equal to suffix of a starting at position start\n",
    "            #return len(a) - start, (a,b)  # return the length of the longest overlap\n",
    "            #all_overlaps.append((a,b))\n",
    "            #print('all_overlaps', all_overlaps)\n",
    "            return  (a,b)#all_overlaps\n",
    "        start += 1 # move just past previous position, if its not true we re-enter loop and we need to implement the start by 1 before that  \n",
    "    "
   ]
  },
  {
   "cell_type": "code",
   "execution_count": null,
   "metadata": {
    "id": "w0NsoeWM6nYW"
   },
   "outputs": [],
   "source": [
    "# Quiz Anser 3 The edges in the graph\n",
    "def overlap_all_reads(reads, k):\n",
    "    overlapping_pairs = []\n",
    "    kmer_dict = kmer_dictionary(reads, k)\n",
    "    for read in reads:\n",
    "        suffix = read[-k:]\n",
    "        reads_with_kmer = kmer_dict[suffix]\n",
    "        for r in reads_with_kmer:\n",
    "            if r != read: \n",
    "                overlaps = overlap(read, r, k)\n",
    "                if overlaps:\n",
    "                    overlapping_pairs.append(overlaps) \n",
    "                    \n",
    "    return overlapping_pairs"
   ]
  },
  {
   "cell_type": "code",
   "execution_count": null,
   "metadata": {
    "id": "thmOFhlF6nYW"
   },
   "outputs": [],
   "source": [
    "my_overlaps = overlap_all_reads(reads,30) #number of nodes"
   ]
  },
  {
   "cell_type": "code",
   "execution_count": null,
   "metadata": {
    "id": "y1K0bTEx6nYW",
    "outputId": "cc5492b6-3694-4866-8ba6-8a5d97aaacf7"
   },
   "outputs": [
    {
     "data": {
      "text/plain": [
       "904746"
      ]
     },
     "execution_count": 8,
     "metadata": {},
     "output_type": "execute_result"
    }
   ],
   "source": [
    "# Answer 3 No of edges in the graph\n",
    "len(my_overlaps)"
   ]
  },
  {
   "cell_type": "code",
   "execution_count": null,
   "metadata": {
    "collapsed": true,
    "id": "IQ1XAy_46nYW",
    "jupyter": {
     "outputs_hidden": true
    },
    "outputId": "b9e8e1ca-caf9-41ee-d7df-a69646d9a8ef"
   },
   "outputs": [
    {
     "data": {
      "text/plain": [
       "[('TAAACAAGCAGTAGTAATTCCTGCTTTATCAAGATAATTTTTCGACTCATCAGAAATATCCGAAAGTGTTAACTTCTGCGTCATGGAAGCGATAAAACTC',\n",
       "  'AAACAAGCAGTAGTAATTCCTGCTTTATCAAGATAATTTTTCGACTCATCAGAAATATCCGAAAGTGTTAACTTCTGCGTCATGGAAGCGATAAAACTCT'),\n",
       " ('TAAACAAGCAGTAGTAATTCCTGCTTTATCAAGATAATTTTTCGACTCATCAGAAATATCCGAAAGTGTTAACTTCTGCGTCATGGAAGCGATAAAACTC',\n",
       "  'AACAAGCAGTAGTAATTCCTGCTTTATCAAGATAATTTTTCGACTCATCAGAAATATCCGAAAGTGTTAACTTCTGCGTCATGGAAGCGATAAAACTCTG'),\n",
       " ('AGCCGACGTTTTGGCGGCGCAACCTGTGACGACAAATCTGCTCAAATTTATGCGCGCTTCGATAAAAATGATTGGCGTATCCAACCTGCAGAGTTTTATC',\n",
       "  'AAAATGATTGGCGTATCCAACCTGCAGAGTTTTATCGCTTCCAGGAGGCAGAAGTTAACACTTTCGGATATTTCTGAGGAGTCGAAAAATAATCTTGATA'),\n",
       " ('AGCCGACGTTTTGGCGGCGCAACCTGTGACGACAAATCTGCTCAAATTTATGCGCGCTTCGATAAAAATGATTGGCGTATCCAACCTGCAGAGTTTTATC',\n",
       "  'TTATGCGCGCTTCGATAAAAATGATTGGCGTATCCAACCTGCAGAGTTTTATCGCTTCCATGACGCAGAAGTTAACACTTTCGGATATTTCTGTTGGGCC'),\n",
       " ('AGCCGACGTTTTGGCGGCGCAACCTGTGACGACAAATCTGCTCAAATTTATGCGCGCTTCGATAAAAATGATTGGCGTATCCAACCTGCAGAGTTTTATC',\n",
       "  'GTTTTGGCGGCGCAACCTGTGACGACAAATCTGCTCAAATTTATGCGCGCTTCGATAAAAATGATTGGCGTATCCAACCTGCAGAGTTTTATCGCTTCCA'),\n",
       " ('AGCCGACGTTTTGGCGGCGCAACCTGTGACGACAAATCTGCTCAAATTTATGCGCGCTTCGATAAAAATGATTGGCGTATCCAACCTGCAGAGTTTTATC',\n",
       "  'ATGCGCGCTTCGATAAAAATGATTGGCGTATCCAACCTGCAGAGTTTTATCGCTTCCATGACGCAGAAGTTAACACTTTCGGATATTTCTGATGAGTCGA'),\n",
       " ('AGCCGACGTTTTGGCGGCGCAACCTGTGACGACAAATCTGCTCAAATTTATGCGCGCTTCGATAAAAATGATTGGCGTATCCAACCTGCAGAGTTTTATC',\n",
       "  'TATGCGCGCTTCGATAAAAATGATTGGCGTATCCAACCTGCAGAGTTTTATCGCTTCCATGACGCAGAAGTTAAAACTTTCGGATATTTCTGATGAGTCG'),\n",
       " ('AGCCGACGTTTTGGCGGCGCAACCTGTGACGACAAATCTGCTCAAATTTATGCGCGCTTCGATAAAAATGATTGGCGTATCCAACCTGCAGAGTTTTATC',\n",
       "  'AATCTGCTCAAATTTATGCGCGCTTCGATAAAAATGATTGGCGTATCCAACCTGCAGAGTTTTATCGCTTCCATGACGCAGAAGTTAACACTTTCGGATA'),\n",
       " ('AGCCGACGTTTTGGCGGCGCAACCTGTGACGACAAATCTGCTCAAATTTATGCGCGCTTCGATAAAAATGATTGGCGTATCCAACCTGCAGAGTTTTATC',\n",
       "  'TTCGATAAAAATGATTGGCGTATCCAACCTGCAGAGTTTTATCGCTTCCATGACGCAGAAGTTAACACTTTCGGATATTTCTGATGAGTCGAAAATTATC'),\n",
       " ('AGCCGACGTTTTGGCGGCGCAACCTGTGACGACAAATCTGCTCAAATTTATGCGCGCTTCGATAAAAATGATTGGCGTATCCAACCTGCAGAGTTTTATC',\n",
       "  'AAATCTGCTCAAATTTATGCGCGCTTCGATAAAAATGATTGGCGTATCCAACCTGCAGAGTTTTATCGCTTCCATGACGCAGAAGTTAACACTTTCGGAT')]"
      ]
     },
     "execution_count": 9,
     "metadata": {},
     "output_type": "execute_result"
    }
   ],
   "source": [
    "my_overlaps[0:10]"
   ]
  },
  {
   "cell_type": "code",
   "execution_count": null,
   "metadata": {},
   "outputs": [],
   "source": [
    "Q4: Picture the overlap graph corresponding to the overlaps computed for the previous question. How many nodes in this graph have at least one outgoing edge?  \n",
    "(In other words, how many reads have a suffix involved in an overlap?)"
   ]
  },
  {
   "cell_type": "code",
   "execution_count": null,
   "metadata": {
    "id": "mS2MO5MF6nYX",
    "jupyter": {
     "source_hidden": true
    }
   },
   "outputs": [],
   "source": [
    "# Q4 The number of nodes that have at least one outgoing edge\n",
    "def overlap_all_reads(reads, k):\n",
    "    overlapping_pairs = {}\n",
    "    kmer_dict = kmer_dictionary(reads, k)\n",
    "    for read in reads:\n",
    "        suffix = read[-k:]\n",
    "        reads_with_kmer = kmer_dict[suffix]\n",
    "        for r in reads_with_kmer:\n",
    "            if r != read: \n",
    "                overlaps = overlap(read, r, k)\n",
    "                if overlaps:\n",
    "                    overlapping_pairs[read] = overlaps\n",
    "                    \n",
    "    return overlapping_pairs"
   ]
  },
  {
   "cell_type": "code",
   "execution_count": null,
   "metadata": {
    "id": "iWrGyKs96nYX"
   },
   "outputs": [],
   "source": [
    "reads_involved = overlap_all_reads(reads,30) #number of nodes"
   ]
  },
  {
   "cell_type": "code",
   "execution_count": null,
   "metadata": {
    "id": "9uEX2B_l6nYX",
    "outputId": "098d510e-b932-4f62-fcac-008c705c6329"
   },
   "outputs": [
    {
     "data": {
      "text/plain": [
       "7161"
      ]
     },
     "execution_count": 22,
     "metadata": {},
     "output_type": "execute_result"
    }
   ],
   "source": [
    "#Answer Q4:  Number of nodes with at least 1 outgoing edge\n",
    "len(reads_involved)"
   ]
  }
 ],
 "metadata": {
  "colab": {
   "name": "W3_Quiz_P3_4.ipynb",
   "provenance": []
  },
  "kernelspec": {
   "display_name": "Python 3",
   "language": "python",
   "name": "python3"
  },
  "language_info": {
   "codemirror_mode": {
    "name": "ipython",
    "version": 3
   },
   "file_extension": ".py",
   "mimetype": "text/x-python",
   "name": "python",
   "nbconvert_exporter": "python",
   "pygments_lexer": "ipython3",
   "version": "3.7.4"
  }
 },
 "nbformat": 4,
 "nbformat_minor": 4
}
