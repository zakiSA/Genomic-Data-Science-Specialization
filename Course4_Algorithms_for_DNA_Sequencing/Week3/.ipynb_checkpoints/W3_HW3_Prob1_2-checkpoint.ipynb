{
 "cells": [
  {
   "cell_type": "markdown",
   "metadata": {},
   "source": [
    "### Algorithms for DNA Sequencing Programming Homework 3 Instructions"
   ]
  },
  {
   "cell_type": "code",
   "execution_count": null,
   "metadata": {},
   "outputs": [],
   "source": [
    "We saw how to adapt dynamic programming to find approximate occurrences of a pattern in a text. Recall that:\n",
    "\n",
    "Rows of the dynamic programming matrix are labeled with bases from P and columns with bases from T\n",
    "\n",
    "Elements in the first row are set to 0\n",
    "\n",
    "Elements in the first column are set to 0, 1, 2, ..., as for edit distance\n",
    "\n",
    "Other elements are set in the same way as elements of a standard edit distance matrix\n",
    "\n",
    "The minimal value in the bottom row is the edit distance of the closest match between P and T\n",
    "\n",
    "First, download the provided excerpt of human chromosome 1\n",
    "\n",
    "https://d28rh4a8wq0iu5.cloudfront.net/ads1/data/chr1.GRCh38.excerpt.fasta\n",
    "\n",
    "Second, parse it using the readGenome function we wrote before.\n",
    "\n",
    "Third, adapt the editDistance function we saw in practical (copied below) to answer questions 1 and 2 below.\n",
    "Your function should take arguments p (pattern), t (text) and should return the edit distance of the match between P and T with the fewest edits."
   ]
  },
  {
   "cell_type": "code",
   "execution_count": null,
   "metadata": {},
   "outputs": [],
   "source": [
    "def editDistance(x, y):\n",
    "    # Create distance matrix\n",
    "    D = []\n",
    "    for i in range(len(x)+1):\n",
    "        D.append([0]*(len(y)+1))\n",
    "    # Initialize first row and column of matrix\n",
    "    for i in range(len(x)+1):\n",
    "        D[i][0] = i\n",
    "    for i in range(len(y)+1):\n",
    "        D[0][i] = i\n",
    "    # Fill in the rest of the matrix\n",
    "    for i in range(1, len(x)+1):\n",
    "        for j in range(1, len(y)+1):\n",
    "            distHor = D[i][j-1] + 1\n",
    "            distVer = D[i-1][j] + 1\n",
    "            if x[i-1] == y[j-1]:\n",
    "                distDiag = D[i-1][j-1]\n",
    "            else:\n",
    "                distDiag = D[i-1][j-1] + 1\n",
    "            D[i][j] = min(distHor, distVer, distDiag)\n",
    "    # Edit distance is the value in the bottom right corner of the matrix\n",
    "    return D[-1][-1]\n"
   ]
  },
  {
   "cell_type": "code",
   "execution_count": null,
   "metadata": {},
   "outputs": [],
   "source": [
    "Hint: In the \"A new solution to approximate matching\" video we saw that the best approximate match of P =GCGTATGCwithin T =TATTGGCTATACGGTThad 2 edits. You can use this and other small examples to double-check that your function is working."
   ]
  },
  {
   "cell_type": "code",
   "execution_count": null,
   "metadata": {},
   "outputs": [],
   "source": [
    "### Programming Homework 3"
   ]
  },
  {
   "cell_type": "code",
   "execution_count": null,
   "metadata": {
    "id": "3DLVpyx69lmV"
   },
   "outputs": [],
   "source": [
    "def edDist_approx_match(x, y):\n",
    "    # Create distance matrix\n",
    "    D = []\n",
    "    for i in range(len(x)+1): # Creates a matrix of zeros\n",
    "        D.append([0]*(len(y)+1))\n",
    "    # Initialize first column of matrix with ascending numbers\n",
    "    for i in range(len(x)+1):\n",
    "        D[i][0] = i\n",
    "    \n",
    "    # Fill in the rest of the matrix\n",
    "    for i in range(1, len(x)+1):\n",
    "        for j in range(1, len(y)+1):\n",
    "            distHor = D[i][j-1] + 1\n",
    "            distVer = D[i-1][j] + 1\n",
    "            if x[i-1] == y[j-1]:\n",
    "                distDiag = D[i-1][j-1]\n",
    "            else:\n",
    "                distDiag = D[i-1][j-1] + 1\n",
    "            D[i][j] = min(distHor, distVer, distDiag)\n",
    "       \n",
    "    # Edit distance is the value in the bottom right corner of the matrix\n",
    "    return min(D[-1])"
   ]
  },
  {
   "cell_type": "code",
   "execution_count": null,
   "metadata": {
    "id": "w8YyRehw9lmY",
    "outputId": "3119e718-f72d-4ec7-913e-b5078d2a4e21"
   },
   "outputs": [
    {
     "name": "stdout",
     "output_type": "stream",
     "text": [
      "[[0, 0, 0, 0, 0, 0, 0, 0, 0, 0, 0, 0, 0, 0, 0, 0, 0], [1, 1, 1, 1, 1, 0, 0, 1, 1, 1, 1, 1, 1, 0, 0, 1, 1], [2, 2, 2, 2, 2, 1, 1, 0, 1, 2, 2, 2, 1, 1, 1, 1, 2], [3, 3, 3, 3, 3, 2, 1, 1, 1, 2, 3, 3, 2, 1, 1, 2, 2], [4, 3, 4, 3, 3, 3, 2, 2, 1, 2, 2, 3, 3, 2, 2, 1, 2], [5, 4, 3, 4, 4, 4, 3, 3, 2, 1, 2, 2, 3, 3, 3, 2, 2], [6, 5, 4, 3, 4, 5, 4, 4, 3, 2, 1, 2, 3, 4, 4, 3, 2], [7, 6, 5, 4, 4, 4, 5, 5, 4, 3, 2, 2, 3, 3, 4, 4, 3], [8, 7, 6, 5, 5, 5, 5, 5, 5, 4, 3, 3, 2, 3, 4, 5, 4]]\n"
     ]
    },
    {
     "data": {
      "text/plain": [
       "2"
      ]
     },
     "execution_count": 26,
     "metadata": {},
     "output_type": "execute_result"
    }
   ],
   "source": [
    "#Example\n",
    "t= 'TATTGGCTATACGGTT'\n",
    "p = 'GCGTATGC'\n",
    "edDist_approx_match(p,t)"
   ]
  },
  {
   "cell_type": "code",
   "execution_count": null,
   "metadata": {
    "id": "yqMTdic_9lmZ"
   },
   "outputs": [],
   "source": [
    "#Read Genome from FASTA file#\n",
    "#############################\n",
    "\n",
    "def readGenome(filename):\n",
    "    \"\"\" This function reads a FASTA file\"\"\"\n",
    "    genome = '' # initialize genome to empty string\n",
    "    with open(filename,'r') as f:               # Open file as f\n",
    "        for line in f:                          # Loop therough and read each line of file f\n",
    "            if not line[0] == '>':              # If line does not start with \">\"\n",
    "                genome += line.rstrip()         # Add line to the string genome, rstrip removes trailing whitespace from ends of string        \n",
    "        \n",
    "    return genome                               # After reading and adding all lines return the string genome\n",
    "\n"
   ]
  },
  {
   "cell_type": "code",
   "execution_count": null,
   "metadata": {
    "id": "fgYkBlk09lmZ"
   },
   "outputs": [],
   "source": [
    "t = readGenome('chr1.GRCh38.excerpt.fasta')\n"
   ]
  },
  {
   "cell_type": "code",
   "execution_count": null,
   "metadata": {
    "id": "CxvEtuW49lma",
    "outputId": "3941cdc1-79f0-4e37-b18d-410da92bd923"
   },
   "outputs": [
    {
     "data": {
      "text/plain": [
       "'TTGAATGCTG'"
      ]
     },
     "execution_count": 29,
     "metadata": {},
     "output_type": "execute_result"
    }
   ],
   "source": [
    "t[0:10]"
   ]
  },
  {
   "cell_type": "code",
   "execution_count": null,
   "metadata": {},
   "outputs": [],
   "source": [
    "Q1: What is the edit distance of the best match between pattern GCTGATCGATCGTACG and the excerpt \n",
    "    of human chromosome 1?  (Don't consider reverse complements.)"
   ]
  },
  {
   "cell_type": "code",
   "execution_count": null,
   "metadata": {
    "id": "er0481Qt9lma",
    "outputId": "2b44055f-aaef-43a5-ddd5-dcd15681fb1d"
   },
   "outputs": [
    {
     "data": {
      "text/plain": [
       "3"
      ]
     },
     "execution_count": 33,
     "metadata": {},
     "output_type": "execute_result"
    }
   ],
   "source": [
    "#Problem 1\n",
    "p = 'GCTGATCGATCGTACG'\n",
    "edDist_approx_match(p, t)"
   ]
  },
  {
   "cell_type": "code",
   "execution_count": null,
   "metadata": {},
   "outputs": [],
   "source": [
    "What is the edit distance of the best match between pattern GATTTACCAGATTGAG and \n",
    "the excerpt of human chromosome 1?  (Don't consider reverse complements.)"
   ]
  },
  {
   "cell_type": "code",
   "execution_count": null,
   "metadata": {
    "id": "S35-8S659lma",
    "outputId": "89295004-07d7-4737-a8e4-b7465bbca83a"
   },
   "outputs": [
    {
     "data": {
      "text/plain": [
       "2"
      ]
     },
     "execution_count": 34,
     "metadata": {},
     "output_type": "execute_result"
    }
   ],
   "source": [
    "# Problem 2\n",
    "p = 'GATTTACCAGATTGAG'\n",
    "edDist_approx_match(p, t)"
   ]
  },
  {
   "cell_type": "markdown",
   "metadata": {},
   "source": [
    "HW3 continued in notebook W3_HW3_Prob3-4"
   ]
  }
 ],
 "metadata": {
  "colab": {
   "collapsed_sections": [],
   "name": "W3_Quiz12.ipynb",
   "provenance": []
  },
  "kernelspec": {
   "display_name": "Python 3",
   "language": "python",
   "name": "python3"
  },
  "language_info": {
   "codemirror_mode": {
    "name": "ipython",
    "version": 3
   },
   "file_extension": ".py",
   "mimetype": "text/x-python",
   "name": "python",
   "nbconvert_exporter": "python",
   "pygments_lexer": "ipython3",
   "version": "3.7.4"
  }
 },
 "nbformat": 4,
 "nbformat_minor": 4
}
