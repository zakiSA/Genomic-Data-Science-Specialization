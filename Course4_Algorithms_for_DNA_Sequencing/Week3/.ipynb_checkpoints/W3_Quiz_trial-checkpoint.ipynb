{
 "cells": [
  {
   "cell_type": "markdown",
   "metadata": {
    "id": "Vud36xS-5S5k"
   },
   "source": [
    "**Programming Homework 3 Instructions**\n",
    "\n"
   ]
  },
  {
   "cell_type": "markdown",
   "metadata": {
    "id": "TWrjtEst5aAz"
   },
   "source": [
    "We saw how to adapt dynamic programming to find approximate occurrences of a pattern in a text. Recall that:\n",
    "\n",
    "Rows of the dynamic programming matrix are labeled with bases from P and columns with bases from T\n",
    "\n",
    "Elements in the first row are set to 0\n",
    "\n",
    "Elements in the first column are set to 0, 1, 2, ..., as for edit distance\n",
    "\n",
    "Other elements are set in the same way as elements of a standard edit distance matrix\n",
    "\n",
    "The minimal value in the bottom row is the edit distance of the closest match between P and T\n",
    "\n",
    "First, download the provided excerpt of human chromosome 1\n",
    "\n",
    "https://d28rh4a8wq0iu5.cloudfront.net/ads1/data/chr1.GRCh38.excerpt.fasta\n",
    "\n",
    "Second, parse it using the readGenome function we wrote before.\n",
    "\n",
    "Third, adapt the editDistance function we saw in practical (copied below) to answer questions 1 and 2 below. Your function should take arguments p (pattern), t (text) and should return the edit distance of the match between P and T with the fewest edits."
   ]
  },
  {
   "cell_type": "markdown",
   "metadata": {
    "id": "kScVLekr5eyb"
   },
   "source": [
    "\n",
    "\n",
    "```\n",
    "# def editDistance(x, y):\n",
    "    # Create distance matrix\n",
    "    D = []\n",
    "    for i in range(len(x)+1):\n",
    "        D.append([0]*(len(y)+1))\n",
    "    # Initialize first row and column of matrix\n",
    "    for i in range(len(x)+1):\n",
    "        D[i][0] = i\n",
    "    for i in range(len(y)+1):\n",
    "        D[0][i] = i\n",
    "    # Fill in the rest of the matrix\n",
    "    for i in range(1, len(x)+1):\n",
    "        for j in range(1, len(y)+1):\n",
    "            distHor = D[i][j-1] + 1\n",
    "            distVer = D[i-1][j] + 1\n",
    "            if x[i-1] == y[j-1]:\n",
    "                distDiag = D[i-1][j-1]\n",
    "            else:\n",
    "                distDiag = D[i-1][j-1] + 1\n",
    "            D[i][j] = min(distHor, distVer, distDiag)\n",
    "    # Edit distance is the value in the bottom right corner of the matrix\n",
    "    return D[-1][-1]\n",
    "\n",
    "```\n",
    "\n"
   ]
  },
  {
   "cell_type": "markdown",
   "metadata": {
    "id": "jqxZ5ohi5zN7"
   },
   "source": [
    "Hint: In the \"A new solution to approximate matching\" video we saw that the best approximate match of P =GCGTATGCwithin T =TATTGGCTATACGGTThad 2 edits. You can use this and other small examples to double-check that your function is working."
   ]
  },
  {
   "cell_type": "markdown",
   "metadata": {
    "id": "rh5EzhiN51X7"
   },
   "source": [
    "**Programming Homework 3**"
   ]
  },
  {
   "cell_type": "markdown",
   "metadata": {
    "id": "h09FRdqn57my"
   },
   "source": [
    "Q1: What is the edit distance of the best match between pattern GCTGATCGATCGTACG and the excerpt of human chromosome 1?  (Don't consider reverse complements.)"
   ]
  },
  {
   "cell_type": "code",
   "execution_count": null,
   "metadata": {
    "id": "G4wJ2Kfs5CCf"
   },
   "outputs": [],
   "source": [
    "#Read Genome from FASTA file#\n",
    "#############################\n",
    "\n",
    "def readGenome(filename):\n",
    "    \"\"\" This function reads a FASTA file\"\"\"\n",
    "    genome = '' # initialize genome to empty string\n",
    "    with open(filename,'r') as f:               # Open file as f\n",
    "        for line in f:                          # Loop therough and read each line of file f\n",
    "            if not line[0] == '>':              # If line does not start with \">\"\n",
    "                genome += line.rstrip()         # Add line to the string genome, rstrip removes trailing whitespace from ends of string        \n",
    "        \n",
    "    return genome                               # After reading and adding all lines return the string genome\n",
    "\n"
   ]
  },
  {
   "cell_type": "code",
   "execution_count": null,
   "metadata": {
    "id": "UEaMqPBE5CCf"
   },
   "outputs": [],
   "source": [
    "t = readGenome('chr1.GRCh38.excerpt.fasta')\n"
   ]
  },
  {
   "cell_type": "code",
   "execution_count": null,
   "metadata": {
    "id": "UKDAcNf45CCg",
    "outputId": "46c4c6ab-93f8-417c-d6ec-3c5a63885c33"
   },
   "outputs": [
    {
     "data": {
      "text/plain": [
       "'TTGAATGCTG'"
      ]
     },
     "execution_count": 29,
     "metadata": {},
     "output_type": "execute_result"
    }
   ],
   "source": [
    "t[0:10]"
   ]
  },
  {
   "cell_type": "code",
   "execution_count": null,
   "metadata": {
    "id": "jziKIpNG5CCg",
    "outputId": "1353f56c-96fb-4d39-b2f4-5a9cacde13e1"
   },
   "outputs": [
    {
     "data": {
      "text/plain": [
       "3"
      ]
     },
     "execution_count": 33,
     "metadata": {},
     "output_type": "execute_result"
    }
   ],
   "source": [
    "# Problem 1\n",
    "p = 'GCTGATCGATCGTACG'\n",
    "edDist_approx_match(p, t)"
   ]
  },
  {
   "cell_type": "markdown",
   "metadata": {
    "id": "534NTXLO7yjO"
   },
   "source": [
    "Expected Answer 1: 3"
   ]
  },
  {
   "cell_type": "markdown",
   "metadata": {
    "id": "JlKK1KLz6fGD"
   },
   "source": [
    "Q2: What is the edit distance of the best match between pattern GATTTACCAGATTGAG and the excerpt of human chromosome 1?  (Don't consider reverse complements.)"
   ]
  },
  {
   "cell_type": "code",
   "execution_count": null,
   "metadata": {
    "id": "yAX84A-_5CCg",
    "outputId": "74b9e90c-ad30-4189-eae1-b19cc4ab1b5b"
   },
   "outputs": [
    {
     "data": {
      "text/plain": [
       "2"
      ]
     },
     "execution_count": 34,
     "metadata": {},
     "output_type": "execute_result"
    }
   ],
   "source": [
    "# Problem 2\n",
    "p = 'GATTTACCAGATTGAG'\n",
    "edDist_approx_match(p, t)"
   ]
  },
  {
   "cell_type": "markdown",
   "metadata": {
    "id": "TF0FQUHd731B"
   },
   "source": [
    "Expected Answer 2: 2"
   ]
  },
  {
   "cell_type": "code",
   "execution_count": null,
   "metadata": {},
   "outputs": [],
   "source": [
    "Q3: In a practical, we saw a function for finding the longest exact overlap (suffix/prefix match) between two strings. The function is copied below."
   ]
  },
  {
   "cell_type": "code",
   "execution_count": null,
   "metadata": {},
   "outputs": [],
   "source": [
    "def overlap(a, b, min_length=3):\n",
    "    \"\"\" Return length of longest suffix of 'a' matching\n",
    "        a prefix of 'b' that is at least 'min_length'\n",
    "        characters long.  If no such overlap exists,\n",
    "        return 0. \"\"\"\n",
    "    start = 0  # start all the way at the left\n",
    "    while True:\n",
    "        start = a.find(b[:min_length], start)  # look for b's prefix in a\n",
    "        if start == -1:  # no more occurrences to right\n",
    "            return 0\n",
    "        # found occurrence; check for full suffix/prefix match\n",
    "        if b.startswith(a[start:]):\n",
    "            return len(a)-start\n",
    "        start += 1  # move just past previous match"
   ]
  },
  {
   "cell_type": "markdown",
   "metadata": {
    "id": "rCMkZFeg7CGK"
   },
   "source": [
    "Say we are concerned only with overlaps that (a) are exact matches (no differences allowed), and (b) are at least \\verb|k|k bases long. To make an overlap graph, we could call \\verb|overlap(a, b, min_length=k)|overlap(a, b, min_length=k) on every possible pair of reads from the dataset.  Unfortunately, that will be very slow!\n",
    "\n",
    "Consider this: Say we are using k=6, and we have a read \\verb|a|a whose length-6 suffix is \\verb|GTCCTA|GTCCTA.  Say \\verb|GTCCTA|GTCCTA does not occur in any other read in the dataset.  In other words, the 6-mer \\verb|GTCCTA|GTCCTA occurs at the end of read \\verb|a|a and nowhere else.  It follows that \\verb|a|a's suffix cannot possibly overlap the prefix of any other read by 6 or more characters.\n",
    "\n",
    "Put another way, if we want to find the overlaps involving a suffix of read \\verb|a|a and a prefix of some other read, we can ignore any reads that don't contain the length-k suffix of \\verb|a|a.  This is good news because it can save us a lot of work!\n",
    "\n",
    "Here is a suggestion for how to implement this idea.  You don't have to do it this way, but this might help you.  Let every k-mer in the dataset have an associated Python \\verb|set|set object, which starts out empty.  We use a Python dictionary to associate each k-mer with its corresponding \\verb|set|set. (1) For every k-mer in a read, we add the read to the \\verb|set|set object corresponding to that k-mer.  If our read is \\verb|GATTA|GATTA and k=3, we would add \\verb|GATTA|GATTA to the \\verb|set|set objects for \\verb|GAT|GAT, \\verb|ATT|ATT and \\verb|TTA|TTA.  We do this for every read so that, at the end, each \\verb|set|set contains all reads containing the corresponding k-mer.  (2) Now, for each read \\verb|a|a, we find all overlaps involving a suffix of \\verb|a|a.  To do this, we take \\verb|a|a's length-k suffix, find all reads containing that k-mer (obtained from the corresponding \\verb|set|set) and call \\verb|overlap(a, b, min_length=k)|overlap(a, b, min_length=k) for each.\n",
    "\n",
    "The most important point is that we do not call \\verb|overlap(a, b, min_length=k)|overlap(a, b, min_length=k) if \\verb|b|b does not contain the length-k suffix of \\verb|a|a.\n",
    "\n",
    "Download and parse the read sequences from the provided Phi-X FASTQ file. We'll just use their base sequences, so you can ignore read names and base qualities.  Also, no two reads in the FASTQ have the same sequence of bases.  This makes things simpler.\n",
    "\n",
    "https://d28rh4a8wq0iu5.cloudfront.net/ads1/data/ERR266411_1.for_asm.fastq\n",
    "\n",
    "Next, find all pairs of reads with an exact suffix/prefix match of length at least 30. Don't overlap a read with itself; if a read has a suffix/prefix match to itself, ignore that match.  Ignore reverse complements.\n",
    "\n",
    "Hint 1: Your function should not take much more than 15 seconds to run on this 10,000-read dataset, and maybe much less than that.  (Our solution takes about 3 seconds.) If your function is much slower, there is a problem somewhere.\n",
    "\n",
    "Hint 2: Remember not to overlap a read with itself. If you do, your answers will be too high.\n",
    "\n",
    "Hint 3: You can test your implementation by making up small examples, then checking that (a) your implementation runs quickly, and (b) you get the same answer as if you had simply called \\verb|overlap(a, b, min_length=k)|overlap(a, b, min_length=k) on every pair of reads.  We also have provided a couple examples you can check against.\n",
    "\n",
    "Picture the overlap graph corresponding to the overlaps just calculated.  How many edges are in the graph?  In other words, how many distinct pairs of reads overlap?\n"
   ]
  },
  {
   "cell_type": "code",
   "execution_count": null,
   "metadata": {
    "id": "g5oolik57AMa"
   },
   "outputs": [],
   "source": [
    "# problem 3 & 4\n",
    "# Read FASTQ function#\n",
    "######################\n",
    "\n",
    "def readFastq(filename):\n",
    "    sequences = []\n",
    "    qualities = []\n",
    "    with open(filename) as fh:\n",
    "        while True:\n",
    "            fh.readline() # skip name line\n",
    "            seq = fh.readline().rstrip() # read base sequence\n",
    "            fh.readline() # skip placeholder line\n",
    "            qual = fh.readline().rstrip() #base quality line\n",
    "            if len(seq) == 0:\n",
    "                break\n",
    "            sequences.append(seq)\n",
    "            qualities.append(qual)\n",
    "    return sequences, qualities"
   ]
  },
  {
   "cell_type": "code",
   "execution_count": null,
   "metadata": {
    "id": "sHpO7iPV8k8J"
   },
   "outputs": [],
   "source": [
    "reads, _ = readFastq('ERR266411_1.for_asm.fastq')"
   ]
  },
  {
   "cell_type": "markdown",
   "metadata": {
    "id": "Oyae-9-M8opI"
   },
   "source": [
    "len(reads)"
   ]
  },
  {
   "cell_type": "code",
   "execution_count": null,
   "metadata": {
    "id": "Idz_p3AD8rco"
   },
   "outputs": [],
   "source": [
    "# Answer 3 & 4\n",
    "#Build dictionary of kmers\n",
    "from collections import defaultdict\n",
    "\n",
    "def kmer_dictionary(reads,k):    \n",
    "    kmer_dict = defaultdict()\n",
    "    for read in reads:\n",
    "        for i in range(len(read)): # go through list of reads\n",
    "            kmer = read[i:i+k] # get the k-mers\n",
    "            if len(kmer)== k:  # if k-mer is of length k\n",
    "                if kmer not in kmer_dict:  #Add k-mer as key of dict\n",
    "                    kmer_dict[kmer] = set() # initialize all values as empty set()\n",
    "                kmer_dict[kmer].add(read)  # Add the read that the kmer is found in to the set of values  \n",
    "    return kmer_dict   "
   ]
  },
  {
   "cell_type": "code",
   "execution_count": null,
   "metadata": {
    "id": "CLU8z-DT8t4o"
   },
   "outputs": [],
   "source": [
    "# Answer 3 & 4\n",
    "def overlap(a,b, min_length=30): #arguments as two strings a and b and mimimum length of overlap\n",
    "    start = 0 # start all the way at the left\n",
    "    #all_overlaps = []\n",
    "\n",
    "    while True:\n",
    "        start = a.find(b[:min_length], start) # look for b suffix in \n",
    "        # start tells function to start looking from this index in a \n",
    "        if start == -1:   # no  more occurrence to the right\n",
    "            return 0     #then reurn 0\n",
    "        if b.startswith(a[start:]):  # If there is an overlap, verify that prefix of b is equal to suffix of a starting at position start\n",
    "            #return len(a) - start, (a,b)  # return the length of the longest overlap\n",
    "            #all_overlaps.append((a,b))\n",
    "            #print('all_overlaps', all_overlaps)\n",
    "            return  (a,b)#all_overlaps\n",
    "        start += 1 # move just past previous position, if its not true we re-enter loop and we need to implement the start by 1 before that  \n",
    "    "
   ]
  },
  {
   "cell_type": "code",
   "execution_count": null,
   "metadata": {
    "id": "VqrsDkXm8wcQ"
   },
   "outputs": [],
   "source": [
    "# Quiz Answer 3 The edges in the graph\n",
    "def overlap_all_reads(reads, k):\n",
    "    overlapping_pairs = []\n",
    "    kmer_dict = kmer_dictionary(reads, k)\n",
    "    for read in reads:\n",
    "        suffix = read[-k:]\n",
    "        reads_with_kmer = kmer_dict[suffix]\n",
    "        for r in reads_with_kmer:\n",
    "            if r != read: \n",
    "                overlaps = overlap(read, r, k)\n",
    "                if overlaps:\n",
    "                    overlapping_pairs.append(overlaps) \n",
    "                    \n",
    "    return overlapping_pairs"
   ]
  },
  {
   "cell_type": "code",
   "execution_count": null,
   "metadata": {
    "id": "4fnFElLf83SR"
   },
   "outputs": [],
   "source": [
    "my_overlaps = overlap_all_reads(reads,30) #number of nodes"
   ]
  },
  {
   "cell_type": "code",
   "execution_count": null,
   "metadata": {
    "id": "S870eNYj84MB"
   },
   "outputs": [],
   "source": [
    "#Answer 3 No of edges in the graph\n",
    "len(my_overlaps)"
   ]
  },
  {
   "cell_type": "markdown",
   "metadata": {
    "id": "Q6R5vpqv86aQ"
   },
   "source": [
    "Expected Answer 3: 904746"
   ]
  },
  {
   "cell_type": "code",
   "execution_count": null,
   "metadata": {
    "id": "Oi9txTtZ8_nY"
   },
   "outputs": [],
   "source": [
    "my_overlaps[0:10]"
   ]
  },
  {
   "cell_type": "code",
   "execution_count": null,
   "metadata": {
    "id": "f5bF5Qmg9EKY"
   },
   "outputs": [],
   "source": [
    "#Quiz Answer 4: The number of nodes that have at least one outgoing edge\n",
    "def overlap_all_reads(reads, k):\n",
    "    overlapping_pairs = {}\n",
    "    kmer_dict = kmer_dictionary(reads, k)\n",
    "    for read in reads:\n",
    "        suffix = read[-k:]\n",
    "        reads_with_kmer = kmer_dict[suffix]\n",
    "        for r in reads_with_kmer:\n",
    "            if r != read: \n",
    "                overlaps = overlap(read, r, k)\n",
    "                if overlaps:\n",
    "                    overlapping_pairs[read] = overlaps\n",
    "                    \n",
    "    return overlapping_pairs"
   ]
  },
  {
   "cell_type": "code",
   "execution_count": null,
   "metadata": {
    "id": "jGbSN9PZ9ND4"
   },
   "outputs": [],
   "source": [
    "reads_involved = overlap_all_reads(reads,30) #number of nodes"
   ]
  },
  {
   "cell_type": "code",
   "execution_count": null,
   "metadata": {
    "id": "bW4Dh24d9Nn4"
   },
   "outputs": [],
   "source": [
    "#Answer Q4 Number of nodes with at least 1 outgoing edge\n",
    "len(reads_involved)"
   ]
  },
  {
   "cell_type": "markdown",
   "metadata": {
    "id": "AqB0jptH9P7A"
   },
   "source": [
    "Expected Answer 4: 7161"
   ]
  }
 ],
 "metadata": {
  "colab": {
   "collapsed_sections": [],
   "name": "W3_Quiz.ipynb",
   "provenance": []
  },
  "kernelspec": {
   "display_name": "Python 3",
   "language": "python",
   "name": "python3"
  },
  "language_info": {
   "codemirror_mode": {
    "name": "ipython",
    "version": 3
   },
   "file_extension": ".py",
   "mimetype": "text/x-python",
   "name": "python",
   "nbconvert_exporter": "python",
   "pygments_lexer": "ipython3",
   "version": "3.7.4"
  }
 },
 "nbformat": 4,
 "nbformat_minor": 4
}
