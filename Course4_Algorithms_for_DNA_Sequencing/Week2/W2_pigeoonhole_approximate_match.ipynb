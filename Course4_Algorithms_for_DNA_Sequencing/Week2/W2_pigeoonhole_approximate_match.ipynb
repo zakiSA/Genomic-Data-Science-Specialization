{
 "cells": [
  {
   "cell_type": "code",
   "execution_count": 21,
   "metadata": {},
   "outputs": [],
   "source": [
    "#Boyer Moore Function\n",
    "        \n",
    "def boyer_moore(p, p_bm, t):\n",
    "    '''Do Boyer Moore Matching'''\n",
    "    i = 0  # keep track of the index where we are in the text\n",
    "    occurrences = []\n",
    "    while i < len(t) - len(p) + 1: # Loop through all the positions in the text where p could start without running past end of t\n",
    "        shift = 1  # The amount that we move along after this comparison( bad char and good suffix - shift can be more than 1 each time)\n",
    "        mismatched = False # Create variable mismatch which we update if we find a match as we go along\n",
    "        for j in range(len(p)-1, -1, -1 ): #Loop through pattern p from end to beginning, third argument -1 is because we are going backwards\n",
    "                                           # second argument is so we stop just before j is -1 ie at 0\n",
    "                if not p[j] == t[i+j]:  # If there is a mismatch\n",
    "                    #Check bad character rule to see howw mauch we can skip\n",
    "                    skip_bc = p_bm.bad_character_rule(j, t[i+j]) # pass in the index of the mismatch, and the character at that index in text that mismatched\n",
    "                    skip_gs = p_bm.good_suffix_rule(j) # pass in index of the mismatch\n",
    "                    # We shift by the max of the above two rules\n",
    "                    shift = max(shift, skip_bc, skip_gs)\n",
    "                    mismatched = True # set mismatch as we have encountered a mismatch\n",
    "                    break # since we found mismatch we dont have to compare rest of the string \n",
    "                    \n",
    "        if not mismatched:\n",
    "            occurrences.append(i) # If there was no mismatch we add the index to list of occurences\n",
    "            # We now check the match_skip function (incase when the entire pattern matched with the text) \n",
    "            skip_gs = p_bm.match_skip()\n",
    "            # Now find max of the shift\n",
    "            shift = max(shift, skip_gs)\n",
    "        i += shift # update position by shift calculated\n",
    "    return occurrences  "
   ]
  },
  {
   "cell_type": "code",
   "execution_count": 14,
   "metadata": {},
   "outputs": [],
   "source": [
    "# Import preprocessig module for Boyer Moore\n",
    "import bm_preproc\n",
    "from bm_preproc import BoyerMoore"
   ]
  },
  {
   "cell_type": "code",
   "execution_count": 29,
   "metadata": {},
   "outputs": [],
   "source": [
    " #Boyer Moore Function\n",
    "    \n",
    "    \n",
    "def boyer_moore(p, p_bm, t):\n",
    "    i = 0  # keep track of the index where we are in the text\n",
    "    occurrences = []\n",
    "    while i < len(t) - len(p) + 1: # Loop through all the positions in the text where p could start without running past end of t\n",
    "        shift = 1  # The amount that we move along after this comparison( bad char and good suffix - shift can be more than 1 each time)\n",
    "        mismatched = False # Create variable mismatch which we update if we find a match as we go along\n",
    "        for j in range(len(p)-1, -1, -1 ): #Loop through pattern p from end to beginning, third argument -1 is because we are going backwards\n",
    "                                           # second argument is so we stop just before j is -1 ie at 0\n",
    "                if not p[j] == t[i+j]:  # If there is a mismatch\n",
    "                    #Check bad character rule to see howw mauch we can skip\n",
    "                    skip_bc = p_bm.bad_character_rule(j, t[i+j]) # pass in the index of the mismatch, and the character at that index in text that mismatched\n",
    "                    skip_gs = p_bm.good_suffix_rule(j) # pass in index of the mismatch\n",
    "                    # We shift by the max of the above two rules\n",
    "                    shift = max(shift, skip_bc, skip_gs)\n",
    "                    mismatched = True # set mismatch as we have encountered a mismatch\n",
    "                    break # since we found mismatch we dont have to compare rest of the string \n",
    "                    \n",
    "        if not mismatched:\n",
    "            occurrences.append(i) # If there was no mismatch we add the index to list of occurences\n",
    "            # We now check the match_skip function (incase when the entire pattern matched with the text) \n",
    "            skip_gs = p_bm.match_skip()\n",
    "            # Now find max of the shift\n",
    "            shift = max(shift, skip_gs)\n",
    "        i += shift # update position by shift calculated\n",
    "    return occurrences  "
   ]
  },
  {
   "cell_type": "code",
   "execution_count": 30,
   "metadata": {},
   "outputs": [
    {
     "data": {
      "text/plain": [
       "[56922, 262042, 364263, 657496, 717706]"
      ]
     },
     "execution_count": 30,
     "metadata": {},
     "output_type": "execute_result"
    }
   ],
   "source": [
    "p_bm = BoyerMoore(p, alphabet = 'ACGT')\n",
    "boyer_moore(p, p_bm, t)"
   ]
  },
  {
   "cell_type": "code",
   "execution_count": 31,
   "metadata": {},
   "outputs": [],
   "source": [
    "def approximate_match(p, t, n):   #Takes as arguments pattern, text and the max number of mismatches n\n",
    "    segment_length = int(round(len(p) /(n+1))) # Set the length of each partition of p, convert to int so that indices are int or it will raise error\n",
    "    all_matches = set() # create a set to hold all the indices wehere we find a match, wihtout duplicates\n",
    "    for i in range(n+1): # For each segment of P, for each iteration move along by the lenght of 1 segment\n",
    "        #Set bounds of P for the segment we are searching for \n",
    "        start = i * segment_length # so if i = 0 and seg_l = 2, start = 0, i = 1, seg_l= 2, start = 1 * 2\n",
    "        end = min((i+1) * segment_length, len(p)) #to make sure we dont run over end of p, since p might not be a perfect multiple of n+1\n",
    "        p_bm = BoyerMoore(p[start:end], alphabet = 'ACGT') #We pass in the substring we just calculated and the alphabet to the preprocessing object, for making our tables for good suffix and bad character rule\n",
    "        #Find matches where the substring matched our text\n",
    "        matches = boyer_moore(p[start:end], p_bm, t) # use the boyer moore function and pass in the substring, p_bm obj, t\n",
    "        \n",
    "        # Verification to see that the rest of p matches t with no more than n mismatches\n",
    "        for m in matches:\n",
    "            #Make sure our location does not let p run off the begining or the end of t\n",
    "            if m < start or m-start+len(p) > len(t): # if any of this is true then we will run past the beginning or end of t\n",
    "                continue # if any of the abov is true skip the rest of the loop\n",
    "                \n",
    "            mismatches = 0 # To count the mismatches between the rest of p and t\n",
    "            # Compare part of p before the start(from 0 to start against corresponding position in t)\n",
    "            for j in range(0, start):\n",
    "                if not p[j] == t[m-start + j]: # if corresponding positions dont match\n",
    "                    mismatches += 1 # increment mismatch by 1\n",
    "                    if mismatches > n: # If the number of mismatches is more than n\n",
    "                        break  # break out of this inner loop\n",
    "            # Compare the part of p after the end\n",
    "            for j in range(end, len(p)): \n",
    "                if not p[j] == t[m-start+j]:\n",
    "                    mismatches += 1\n",
    "                    if mismatches > n:\n",
    "                        break\n",
    "                        \n",
    "            if mismatches <= n: # If we have verified on both sides of p and mismatches are less than n\n",
    "                all_matches.add(m-start) # we add the m - start to get the begining of p for the match to the set all_matches\n",
    "                \n",
    "                \n",
    "                    \n",
    "    return matches, list(all_matches)         \n",
    "    "
   ]
  },
  {
   "cell_type": "code",
   "execution_count": 32,
   "metadata": {},
   "outputs": [],
   "source": [
    "matches, all_matches = approximate_match(p, t, 2)"
   ]
  },
  {
   "cell_type": "code",
   "execution_count": 34,
   "metadata": {},
   "outputs": [
    {
     "name": "stdout",
     "output_type": "stream",
     "text": [
      "19\n"
     ]
    }
   ],
   "source": [
    "print(len(all_matches))"
   ]
  },
  {
   "cell_type": "code",
   "execution_count": 35,
   "metadata": {},
   "outputs": [
    {
     "name": "stdout",
     "output_type": "stream",
     "text": [
      "60\n"
     ]
    }
   ],
   "source": [
    "print(len(matches))"
   ]
  },
  {
   "cell_type": "code",
   "execution_count": 1,
   "metadata": {},
   "outputs": [],
   "source": [
    "p = 'AACTTG'\n",
    "t = 'CACTTAATTTG'\n",
    "print(approximate_match(p, t, 2))"
   ]
  },
  {
   "cell_type": "code",
   "execution_count": null,
   "metadata": {},
   "outputs": [],
   "source": [
    "print(t[5:])"
   ]
  },
  {
   "cell_type": "code",
   "execution_count": 1,
   "metadata": {},
   "outputs": [],
   "source": [
    "#Read Genome from FASTA file#\n",
    "#############################\n",
    "\n",
    "def readGenome(filename):\n",
    "    \"\"\" This function reads a FASTA file\"\"\"\n",
    "    genome = '' # initialize genome to empty string\n",
    "    with open(filename,'r') as f:               # Open file as f\n",
    "        for line in f:                          # Loop therough and read each line of file f\n",
    "            if not line[0] == '>':              # If line does not start with \">\"\n",
    "                genome += line.rstrip()         # Add line to the string genome, rstrip removes trailing whitespace from ends of string        \n",
    "        \n",
    "    return genome                               # After reading and adding all lines return the string genome\n",
    "\n"
   ]
  },
  {
   "cell_type": "code",
   "execution_count": 2,
   "metadata": {},
   "outputs": [
    {
     "data": {
      "text/plain": [
       "'TTGAATGCTG'"
      ]
     },
     "execution_count": 2,
     "metadata": {},
     "output_type": "execute_result"
    }
   ],
   "source": [
    "genome = readGenome('chr1.GRCh38.excerpt.fasta')\n",
    "genome[:10]"
   ]
  },
  {
   "cell_type": "code",
   "execution_count": 19,
   "metadata": {},
   "outputs": [],
   "source": [
    "t = genome\n",
    "p = 'GGCGCGGTGGCTCACGCCTGTAAT'"
   ]
  },
  {
   "cell_type": "code",
   "execution_count": 24,
   "metadata": {},
   "outputs": [],
   "source": [
    "hits, all_matches = approximate_match(p,t,2)"
   ]
  },
  {
   "cell_type": "code",
   "execution_count": 25,
   "metadata": {},
   "outputs": [
    {
     "name": "stdout",
     "output_type": "stream",
     "text": [
      "[18749, 19182, 22413, 22548, 23019, 23154, 43143, 56938, 67379, 83736, 83879, 84657, 84791, 108126, 129010, 147574, 160745, 175326, 186012, 187671, 191468, 205397, 251106, 251240, 262058, 273685, 282020, 322751, 364279, 364412, 421237, 429315, 454348, 465663, 471982, 480517, 480658, 523101, 551150, 551843, 572212, 588494, 595557, 613475, 621507, 632321, 635947, 646504, 651539, 657512, 674072, 681753, 707167, 717722, 719434, 724943, 746636, 747375, 747511, 760505]\n"
     ]
    }
   ],
   "source": [
    "print(hits)"
   ]
  },
  {
   "cell_type": "code",
   "execution_count": 26,
   "metadata": {},
   "outputs": [
    {
     "name": "stdout",
     "output_type": "stream",
     "text": [
      "60\n"
     ]
    }
   ],
   "source": [
    "print(len(hits))"
   ]
  },
  {
   "cell_type": "code",
   "execution_count": 1,
   "metadata": {},
   "outputs": [
    {
     "data": {
      "text/plain": [
       "'GGCGCGGTGGCTCACGCCTGTAA'"
      ]
     },
     "execution_count": 1,
     "metadata": {},
     "output_type": "execute_result"
    }
   ],
   "source": [
    "p = 'GGCGCGGTGGCTCACGCCTGTAAT'\n",
    "p[:-1]"
   ]
  },
  {
   "cell_type": "code",
   "execution_count": 2,
   "metadata": {},
   "outputs": [
    {
     "data": {
      "text/plain": [
       "'happ'"
      ]
     },
     "execution_count": 2,
     "metadata": {},
     "output_type": "execute_result"
    }
   ],
   "source": [
    "a = 'happy'\n",
    "a[:-1]"
   ]
  },
  {
   "cell_type": "code",
   "execution_count": null,
   "metadata": {},
   "outputs": [],
   "source": [
    " "
   ]
  }
 ],
 "metadata": {
  "kernelspec": {
   "display_name": "Python 3",
   "language": "python",
   "name": "python3"
  },
  "language_info": {
   "codemirror_mode": {
    "name": "ipython",
    "version": 3
   },
   "file_extension": ".py",
   "mimetype": "text/x-python",
   "name": "python",
   "nbconvert_exporter": "python",
   "pygments_lexer": "ipython3",
   "version": "3.7.4"
  }
 },
 "nbformat": 4,
 "nbformat_minor": 4
}
