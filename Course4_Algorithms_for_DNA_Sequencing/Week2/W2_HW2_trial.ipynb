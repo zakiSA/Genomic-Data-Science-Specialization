{
 "cells": [
  {
   "cell_type": "markdown",
   "metadata": {
    "id": "NwLvbZRDWwri"
   },
   "source": [
    "## Programming Homework 2 Instructions "
   ]
  },
  {
   "cell_type": "markdown",
   "metadata": {
    "id": "8xmUV3M-Wzz4"
   },
   "source": [
    "In a practical, we saw Python code implementing the Boyer-Moore algorithm. Some of the code is for preprocessing the pattern P into the tables needed to execute the bad character and good suffix rules — we did not discuss that code. But we did discuss the code that performs the algorithm given those tables:"
   ]
  },
  {
   "cell_type": "code",
   "execution_count": null,
   "metadata": {
    "id": "xW6yAEtIW2yu"
   },
   "outputs": [],
   "source": [
    "def boyer_moore(p, p_bm, t):\n",
    "    \"\"\" Do Boyer-Moore matching. p=pattern, t=text,\n",
    "        p_bm=BoyerMoore object for p \"\"\"\n",
    "    i = 0\n",
    "    occurrences = []\n",
    "    while i < len(t) - len(p) + 1:\n",
    "        shift = 1\n",
    "        mismatched = False\n",
    "        for j in range(len(p)-1, -1, -1):\n",
    "            if p[j] != t[i+j]:\n",
    "                skip_bc = p_bm.bad_character_rule(j, t[i+j])\n",
    "                skip_gs = p_bm.good_suffix_rule(j)\n",
    "                shift = max(shift, skip_bc, skip_gs)\n",
    "                mismatched = True\n",
    "                break\n",
    "        if not mismatched:\n",
    "            occurrences.append(i)\n",
    "            skip_gs = p_bm.match_skip()\n",
    "            shift = max(shift, skip_gs)\n",
    "        i += shift\n",
    "    return occurrences\n"
   ]
  },
  {
   "cell_type": "markdown",
   "metadata": {
    "id": "4Cxuh25nW5ng"
   },
   "source": [
    "Measuring Boyer-Moore's benefit. First, download the Python module for Boyer-Moore preprocessing:\n",
    "\n",
    "http://d28rh4a8wq0iu5.cloudfront.net/ads1/code/bm_preproc.py\n",
    "\n",
    "This module provides the BoyerMoore class, which encapsulates the preprocessing info used by the boyer_moore function above. Second, download the provided excerpt of human chromosome 1:\n",
    "\n",
    "http://d28rh4a8wq0iu5.cloudfront.net/ads1/data/chr1.GRCh38.excerpt.fasta\n",
    "\n",
    "Third, implement versions of the naive exact matching and Boyer-Moore algorithms that additionally count and return (a) the number of character comparisons performed and (b) the number of alignments tried. Roughly speaking, these measure how much work the two different algorithms are doing.\n",
    "\n",
    "For a few examples to help you test if your enhanced versions of the naive exact matching and Boyer-Moore algorithms are working properly, see these notebooks:\n",
    "\n",
    "* Naive\n",
    "\n",
    "* Boyer-Moore"
   ]
  },
  {
   "cell_type": "markdown",
   "metadata": {
    "id": "VDw5RSmzXEjA"
   },
   "source": [
    "## Programming Homework 2"
   ]
  },
  {
   "cell_type": "markdown",
   "metadata": {
    "id": "6NglctAwXGM4"
   },
   "source": [
    "Q1: How many alignments does the naive exact matching algorithm try when matching the string GGCGCGGTGGCTCACGCCTGTAATCCCAGCACTTTGGGAGGCCGAGG (derived from human Alu sequences) to the excerpt of human chromosome 1?  (Don't consider reverse complements.)"
   ]
  },
  {
   "cell_type": "code",
   "execution_count": 1,
   "metadata": {
    "executionInfo": {
     "elapsed": 2,
     "status": "ok",
     "timestamp": 1639760844057,
     "user": {
      "displayName": "Syeda Zaki",
      "photoUrl": "https://lh3.googleusercontent.com/a/default-user=s64",
      "userId": "14890329424800871756"
     },
     "user_tz": 300
    },
    "id": "_dhQV4UXWloN"
   },
   "outputs": [],
   "source": [
    "#Read Genome from FASTA file#\n",
    "#############################\n",
    "\n",
    "def readGenome(filename):\n",
    "    \"\"\" This function reads a FASTA file\"\"\"\n",
    "    genome = '' # initialize genome to empty string\n",
    "    with open(filename,'r') as f:               # Open file as f\n",
    "        for line in f:                          # Loop therough and read each line of file f\n",
    "            if not line[0] == '>':              # If line does not start with \">\"\n",
    "                genome += line.rstrip()         # Add line to the string genome, rstrip removes trailing whitespace from ends of string        \n",
    "        \n",
    "    return genome                               # After reading and adding all lines return the string genome\n",
    "\n"
   ]
  },
  {
   "cell_type": "code",
   "execution_count": 5,
   "metadata": {
    "colab": {
     "base_uri": "https://localhost:8080/"
    },
    "executionInfo": {
     "elapsed": 17927,
     "status": "ok",
     "timestamp": 1639761057436,
     "user": {
      "displayName": "Syeda Zaki",
      "photoUrl": "https://lh3.googleusercontent.com/a/default-user=s64",
      "userId": "14890329424800871756"
     },
     "user_tz": 300
    },
    "id": "YUIJb5xhXyUI",
    "outputId": "9d67a22d-629d-4815-f1f5-a162384da21d"
   },
   "outputs": [
    {
     "name": "stdout",
     "output_type": "stream",
     "text": [
      "Mounted at /content/gdrive\n"
     ]
    }
   ],
   "source": [
    "#Import google drive\n",
    "\n",
    "from google.colab import drive\n",
    "drive.mount('/content/gdrive')"
   ]
  },
  {
   "cell_type": "code",
   "execution_count": 6,
   "metadata": {
    "colab": {
     "base_uri": "https://localhost:8080/"
    },
    "executionInfo": {
     "elapsed": 495,
     "status": "ok",
     "timestamp": 1639761060465,
     "user": {
      "displayName": "Syeda Zaki",
      "photoUrl": "https://lh3.googleusercontent.com/a/default-user=s64",
      "userId": "14890329424800871756"
     },
     "user_tz": 300
    },
    "id": "FJHnBe9lX4Ng",
    "outputId": "4b7c6819-c03d-4633-ef51-a576cb39fb72"
   },
   "outputs": [
    {
     "name": "stdout",
     "output_type": "stream",
     "text": [
      "/content/gdrive/My Drive/Genomic Data Science/Algorithms_for_DNA_Sequencing/Week2\n"
     ]
    }
   ],
   "source": [
    "%cd /content/gdrive/My\\ Drive/Genomic\\ Data\\ Science/Algorithms_for_DNA_Sequencing/Week2"
   ]
  },
  {
   "cell_type": "code",
   "execution_count": 7,
   "metadata": {
    "colab": {
     "base_uri": "https://localhost:8080/",
     "height": 35
    },
    "executionInfo": {
     "elapsed": 1000,
     "status": "ok",
     "timestamp": 1639761064398,
     "user": {
      "displayName": "Syeda Zaki",
      "photoUrl": "https://lh3.googleusercontent.com/a/default-user=s64",
      "userId": "14890329424800871756"
     },
     "user_tz": 300
    },
    "id": "jyBZVLzrWloQ",
    "outputId": "1eae5efb-130f-48e9-8d5b-a818544cfb99"
   },
   "outputs": [
    {
     "data": {
      "application/vnd.google.colaboratory.intrinsic+json": {
       "type": "string"
      },
      "text/plain": [
       "'TTGAATGCTG'"
      ]
     },
     "execution_count": 7,
     "metadata": {},
     "output_type": "execute_result"
    }
   ],
   "source": [
    "genome = readGenome('chr1.GRCh38.excerpt.fasta')\n",
    "genome[:10]"
   ]
  },
  {
   "cell_type": "code",
   "execution_count": 8,
   "metadata": {
    "executionInfo": {
     "elapsed": 247,
     "status": "ok",
     "timestamp": 1639761068800,
     "user": {
      "displayName": "Syeda Zaki",
      "photoUrl": "https://lh3.googleusercontent.com/a/default-user=s64",
      "userId": "14890329424800871756"
     },
     "user_tz": 300
    },
    "id": "zF8J5WC3WloR"
   },
   "outputs": [],
   "source": [
    "t = genome\n",
    "p = 'GGCGCGGTGGCTCACGCCTGTAAT'"
   ]
  },
  {
   "cell_type": "code",
   "execution_count": 9,
   "metadata": {
    "executionInfo": {
     "elapsed": 242,
     "status": "ok",
     "timestamp": 1639761071671,
     "user": {
      "displayName": "Syeda Zaki",
      "photoUrl": "https://lh3.googleusercontent.com/a/default-user=s64",
      "userId": "14890329424800871756"
     },
     "user_tz": 300
    },
    "id": "Yba74nRcWloR"
   },
   "outputs": [],
   "source": [
    "import bisect"
   ]
  },
  {
   "cell_type": "markdown",
   "metadata": {
    "id": "990eoYliWloR"
   },
   "source": [
    "Substring Index"
   ]
  },
  {
   "cell_type": "code",
   "execution_count": 10,
   "metadata": {
    "executionInfo": {
     "elapsed": 235,
     "status": "ok",
     "timestamp": 1639761098296,
     "user": {
      "displayName": "Syeda Zaki",
      "photoUrl": "https://lh3.googleusercontent.com/a/default-user=s64",
      "userId": "14890329424800871756"
     },
     "user_tz": 300
    },
    "id": "0rda54NmWloS"
   },
   "outputs": [],
   "source": [
    "class Index(object):\n",
    "    def __init__(self, t, k):\n",
    "        ''' Create index from all substrings of size 'length' '''\n",
    "        self.k = k  # k-mer length (k)\n",
    "        self.index = []\n",
    "        for i in range(len(t) - k + 1):  # for each k-mer\n",
    "            self.index.append((t[i:i+k], i))  # add (k-mer, offset) pair\n",
    "        self.index.sort()  # alphabetize by k-mer\n",
    "    \n",
    "    def query(self, p):\n",
    "        ''' Return index hits for first k-mer of P '''\n",
    "        kmer = p[:self.k]  # query with first k-mer\n",
    "        i = bisect.bisect_left(self.index, (kmer, -1))  # binary search\n",
    "        hits = []\n",
    "        while i < len(self.index):  # collect matching index entries\n",
    "            if self.index[i][0] != kmer:\n",
    "                break\n",
    "            hits.append(self.index[i][1])\n",
    "            i += 1\n",
    "        return hits"
   ]
  },
  {
   "cell_type": "code",
   "execution_count": 11,
   "metadata": {
    "executionInfo": {
     "elapsed": 219,
     "status": "ok",
     "timestamp": 1639761100976,
     "user": {
      "displayName": "Syeda Zaki",
      "photoUrl": "https://lh3.googleusercontent.com/a/default-user=s64",
      "userId": "14890329424800871756"
     },
     "user_tz": 300
    },
    "id": "8JTDtbNoWloT"
   },
   "outputs": [],
   "source": [
    "def query_index(p, t, index):\n",
    "    k = index.k\n",
    "    offsets =[]\n",
    "    for i in index.query(p):\n",
    "        if p[k:] == t[i+k:i+len(p)]:\n",
    "            offsets.append(i)\n",
    "    return offsets           "
   ]
  },
  {
   "cell_type": "code",
   "execution_count": 12,
   "metadata": {
    "executionInfo": {
     "elapsed": 2176,
     "status": "ok",
     "timestamp": 1639761105707,
     "user": {
      "displayName": "Syeda Zaki",
      "photoUrl": "https://lh3.googleusercontent.com/a/default-user=s64",
      "userId": "14890329424800871756"
     },
     "user_tz": 300
    },
    "id": "vr5f8WPNWloU"
   },
   "outputs": [],
   "source": [
    "index = Index(t, 8)"
   ]
  },
  {
   "cell_type": "code",
   "execution_count": 13,
   "metadata": {
    "executionInfo": {
     "elapsed": 218,
     "status": "ok",
     "timestamp": 1639761110873,
     "user": {
      "displayName": "Syeda Zaki",
      "photoUrl": "https://lh3.googleusercontent.com/a/default-user=s64",
      "userId": "14890329424800871756"
     },
     "user_tz": 300
    },
    "id": "xR_kPhF0WloU"
   },
   "outputs": [],
   "source": [
    "# Pigeon hole using Substring Index\n",
    "def approximate_match(p, t, n):   #Takes as arguments pattern, text and the max number of mismatches n\n",
    "    segment_length = int(round(len(p)/(n+1))) # Set the length of each partition of p, convert to int so that indices are int or it will raise error\n",
    "    all_matches = set() # create a set to hold all the indices wehere we find a match, wihtout duplicates\n",
    "    for i in range(n+1): # For each segment of P, for each iteration move along by the lenght of 1 segment\n",
    "        #Set bounds of P for the segment we are searching for \n",
    "        start = i * segment_length # so if i = 0 and seg_l = 2, start = 0, i = 1, seg_l= 2, start = 1 * 2\n",
    "        end = min((i+1) * segment_length, len(p)) #to make sure we dont run over end of p, since p might not be a perfect multiple of n+1\n",
    "        index = Index(t, 8)\n",
    "        matches = query_index(p[0:len(p-1)], t, index)\n",
    "        \n",
    "        # Verification to see that the rest of p matches t with no more than n mismatches\n",
    "        for m in matches:\n",
    "            #Make sure our location does not let p run off the begining or the end of t\n",
    "            if m < start or m-start+len(p) > len(t): # if any of this is true then we will run past the beginning or end of t\n",
    "                continue # if any of the abov is true skip the rest of the loop\n",
    "                \n",
    "            mismatch = 0 # To count the mismatches between the rest of p and t\n",
    "            # Compare part of p before the start(from 0 to start against corresponding position in t)\n",
    "            for j in range(0, start):\n",
    "                if not p[j] == t[m-start + j]: # if corresponding positions dont match\n",
    "                    mismatch += 1 # increment mismatch by 1\n",
    "                    if mismatch > n: # If the number of mismatches is more than n\n",
    "                        break  # break out of this inner loop\n",
    "            # Compare the part of p after the end\n",
    "            for j in range(end, len(p)): \n",
    "                if not p[j] == t[m-start+j]:\n",
    "                    mismatch += 1\n",
    "                    if mismatch > n:\n",
    "                        break\n",
    "                        \n",
    "            if mismatch <= n: # If we have verified on both sides of p and mismatches are less than n\n",
    "                all_matches.add(m-start) # we add the m - start to get the begining of p for the match to the set all_matches\n",
    "                \n",
    "                \n",
    "                    \n",
    "    return list(all_matches)         \n",
    "    "
   ]
  },
  {
   "cell_type": "code",
   "execution_count": 16,
   "metadata": {
    "executionInfo": {
     "elapsed": 218,
     "status": "ok",
     "timestamp": 1639761144779,
     "user": {
      "displayName": "Syeda Zaki",
      "photoUrl": "https://lh3.googleusercontent.com/a/default-user=s64",
      "userId": "14890329424800871756"
     },
     "user_tz": 300
    },
    "id": "2yoCqij5WloV"
   },
   "outputs": [],
   "source": [
    "# Naive exact match\n",
    "\n",
    "def naive(p, t):\n",
    "    occurrences = []\n",
    "    for i in range(len(t) - len(p) + 1):  # loop over alignments\n",
    "        match = True\n",
    "        for j in range(len(p)):  # loop over characters\n",
    "            if t[i+j] != p[j]:  # compare characters\n",
    "                match = False\n",
    "                break\n",
    "        if match:\n",
    "            occurrences.append(i)  # all chars matched; record\n",
    "    return occurrences\n"
   ]
  },
  {
   "cell_type": "code",
   "execution_count": 17,
   "metadata": {
    "executionInfo": {
     "elapsed": 222,
     "status": "ok",
     "timestamp": 1639761147981,
     "user": {
      "displayName": "Syeda Zaki",
      "photoUrl": "https://lh3.googleusercontent.com/a/default-user=s64",
      "userId": "14890329424800871756"
     },
     "user_tz": 300
    },
    "id": "pd2mvJxmWloW"
   },
   "outputs": [],
   "source": [
    "# Pigeonhole using naive\n",
    "def approximate_match(p, t, n):   #Takes as arguments pattern, text and the max number of mismatches n\n",
    "    segment_length = int(round(len(p)/(n+1))) # Set the length of each partition of p, convert to int so that indices are int or it will raise error\n",
    "    all_matches = set() # create a set to hold all the indices wehere we find a match, wihtout duplicates\n",
    "    hits = []\n",
    "    for i in range(n+1): # For each segment of P, for each iteration move along by the lenght of 1 segment\n",
    "        #Set bounds of P for the segment we are searching for \n",
    "        start = i * segment_length # so if i = 0 and seg_l = 2, start = 0, i = 1, seg_l= 2, start = 1 * 2\n",
    "        end = min((i+1) * segment_length, len(p)) #to make sure we dont run over end of p, since p might not be a perfect multiple of n+1\n",
    "        matches = naive(p[start:end], t)\n",
    "        # Verification to see that the rest of p matches t with no more than n mismatches\n",
    "        for m in matches:\n",
    "            #Make sure our location does not let p run off the begining or the end of t\n",
    "            if m < start or m-start+len(p) > len(t): # if any of this is true then we will run past the beginning or end of t\n",
    "                continue # if any of the abov is true skip the rest of the loop\n",
    "                \n",
    "            mismatch = 0 # To count the mismatches between the rest of p and t\n",
    "            # Compare part of p before the start(from 0 to start against corresponding position in t)\n",
    "            for j in range(0, start):\n",
    "                if not p[j] == t[m-start + j]: # if corresponding positions dont match\n",
    "                    mismatch += 1 # increment mismatch by 1\n",
    "                    if mismatch > n: # If the number of mismatches is more than n\n",
    "                        break  # break out of this inner loop\n",
    "            # Compare the part of p after the end\n",
    "            for j in range(end, len(p)): \n",
    "                if not p[j] == t[m-start+j]:\n",
    "                    mismatch += 1\n",
    "                    if mismatch > n:\n",
    "                        break\n",
    "                        \n",
    "            if mismatch <= n: # If we have verified on both sides of p and mismatches are less than n\n",
    "                all_matches.add(m-start) # we add the m - start to get the begining of p for the match to the set all_matches\n",
    "                \n",
    "                \n",
    "                    \n",
    "    return matches, list(all_matches)         \n",
    "    "
   ]
  },
  {
   "cell_type": "code",
   "execution_count": 18,
   "metadata": {
    "executionInfo": {
     "elapsed": 1271,
     "status": "ok",
     "timestamp": 1639761151891,
     "user": {
      "displayName": "Syeda Zaki",
      "photoUrl": "https://lh3.googleusercontent.com/a/default-user=s64",
      "userId": "14890329424800871756"
     },
     "user_tz": 300
    },
    "id": "u3B4yYyuWloW"
   },
   "outputs": [],
   "source": [
    "matches, all_matches = approximate_match(p, t, 2)"
   ]
  },
  {
   "cell_type": "code",
   "execution_count": 19,
   "metadata": {
    "colab": {
     "base_uri": "https://localhost:8080/"
    },
    "executionInfo": {
     "elapsed": 246,
     "status": "ok",
     "timestamp": 1639761153584,
     "user": {
      "displayName": "Syeda Zaki",
      "photoUrl": "https://lh3.googleusercontent.com/a/default-user=s64",
      "userId": "14890329424800871756"
     },
     "user_tz": 300
    },
    "id": "ifA0-6JSWloW",
    "outputId": "61a6a36c-1cb8-4dc0-e764-4923822aef85"
   },
   "outputs": [
    {
     "name": "stdout",
     "output_type": "stream",
     "text": [
      "60\n"
     ]
    }
   ],
   "source": [
    "print(len(matches))"
   ]
  },
  {
   "cell_type": "code",
   "execution_count": 20,
   "metadata": {
    "executionInfo": {
     "elapsed": 218,
     "status": "ok",
     "timestamp": 1639761177783,
     "user": {
      "displayName": "Syeda Zaki",
      "photoUrl": "https://lh3.googleusercontent.com/a/default-user=s64",
      "userId": "14890329424800871756"
     },
     "user_tz": 300
    },
    "id": "IFO1L3_FWloX"
   },
   "outputs": [],
   "source": [
    "# naive_2mm: Naive Matching algorithm with upto 2 mismatches\n",
    "\n",
    "def naive_2mm(p, t, maxDist):\n",
    "    occurrences = []\n",
    "    for i in range(len(t) - len(p) + 1):\n",
    "        match = True\n",
    "        nmm = 0\n",
    "        for j in range(len(p)):\n",
    "            if t[i+j] != p[j]:\n",
    "                nmm += 1\n",
    "                if nmm > maxDist:\n",
    "                    break\n",
    "        if nmm <= maxDist:\n",
    "            occurrences.append(i)\n",
    "    return occurrences        "
   ]
  },
  {
   "cell_type": "code",
   "execution_count": 21,
   "metadata": {
    "executionInfo": {
     "elapsed": 980,
     "status": "ok",
     "timestamp": 1639761183969,
     "user": {
      "displayName": "Syeda Zaki",
      "photoUrl": "https://lh3.googleusercontent.com/a/default-user=s64",
      "userId": "14890329424800871756"
     },
     "user_tz": 300
    },
    "id": "OyFx_kEtWloX"
   },
   "outputs": [],
   "source": [
    "naive2mm_matches = naive_2mm(p, t, 2)"
   ]
  },
  {
   "cell_type": "code",
   "execution_count": 22,
   "metadata": {
    "colab": {
     "base_uri": "https://localhost:8080/"
    },
    "executionInfo": {
     "elapsed": 1,
     "status": "ok",
     "timestamp": 1639761185690,
     "user": {
      "displayName": "Syeda Zaki",
      "photoUrl": "https://lh3.googleusercontent.com/a/default-user=s64",
      "userId": "14890329424800871756"
     },
     "user_tz": 300
    },
    "id": "ExzH-ISAWloX",
    "outputId": "dc3513ba-882a-4985-97b9-178d863f9ca0"
   },
   "outputs": [
    {
     "data": {
      "text/plain": [
       "19"
      ]
     },
     "execution_count": 22,
     "metadata": {},
     "output_type": "execute_result"
    }
   ],
   "source": [
    "len(naive2mm_matches)"
   ]
  },
  {
   "cell_type": "code",
   "execution_count": 23,
   "metadata": {
    "colab": {
     "base_uri": "https://localhost:8080/"
    },
    "executionInfo": {
     "elapsed": 218,
     "status": "ok",
     "timestamp": 1639761188640,
     "user": {
      "displayName": "Syeda Zaki",
      "photoUrl": "https://lh3.googleusercontent.com/a/default-user=s64",
      "userId": "14890329424800871756"
     },
     "user_tz": 300
    },
    "id": "FY4m6hzVWloX",
    "outputId": "bb130ecd-32d2-4f8c-ac00-86420a50d7b7"
   },
   "outputs": [
    {
     "name": "stdout",
     "output_type": "stream",
     "text": [
      "[56922, 84641, 147558, 160162, 160729, 191452, 262042, 273669, 364263, 421221, 429299, 465647, 551134, 635931, 657496, 681737, 717706, 724927, 747359]\n"
     ]
    }
   ],
   "source": [
    "print(naive2mm_matches)"
   ]
  }
 ],
 "metadata": {
  "colab": {
   "name": "W2_HW2_Prob.ipynb",
   "provenance": []
  },
  "kernelspec": {
   "display_name": "Python 3",
   "language": "python",
   "name": "python3"
  },
  "language_info": {
   "codemirror_mode": {
    "name": "ipython",
    "version": 3
   },
   "file_extension": ".py",
   "mimetype": "text/x-python",
   "name": "python",
   "nbconvert_exporter": "python",
   "pygments_lexer": "ipython3",
   "version": "3.7.4"
  }
 },
 "nbformat": 4,
 "nbformat_minor": 4
}
