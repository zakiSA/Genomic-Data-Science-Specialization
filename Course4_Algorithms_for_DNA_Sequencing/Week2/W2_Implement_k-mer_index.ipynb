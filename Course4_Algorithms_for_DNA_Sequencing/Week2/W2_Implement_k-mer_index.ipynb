{
 "cells": [
  {
   "cell_type": "code",
   "execution_count": 1,
   "metadata": {},
   "outputs": [],
   "source": [
    "import bisect # module for binary search on a list"
   ]
  },
  {
   "cell_type": "code",
   "execution_count": 7,
   "metadata": {},
   "outputs": [],
   "source": [
    "# Create Index object\n",
    "class Index(object):  \n",
    "    def __init__(self, t, k):    # Initialize the initilization method and pass in sel, text t and lenght of k-mer k\n",
    "        self.k = k               # Class variables- set k value to the k value we passed in to the function\n",
    "        self.index = []          # Create list- index as an empty list\n",
    "        # Loop through text t and get every k-mer of length k and add it to the list index along with their offset(index)\n",
    "        for i in range(len(t)- k + 1): # To get every index such that the k-mer does not run past the end of the text\n",
    "            self.index.append((t[i:i+k], i))   # Append to the index  a tuple consisting of the kmer (t[i:i+k], starting at i of length k), and the offset/index i\n",
    "        #After we have added all the k-mers    \n",
    "        self.index.sort()   # Sort the list index\n",
    "        \n",
    "    def query(self, p):    #function to query the index. Takes an argument p which is the pattern\n",
    "        # Find the k-mer bases of p to look up in the index\n",
    "        kmer =p[:self.k]\n",
    "        # Find the 1st position in the list where this kmer occurs using bisect\n",
    "        i = bisect.bisect_left(self.index, (kmer, -1))# The lsist we are searching in,and the object we are searching for is a tuple, -1 will look at all the indices > 1, assures that we get first occurrence of that\n",
    "        hits =[] # list to store where the kmer occurs in the \n",
    "        while i < len(self.index): # We start at index i and keep looking for all the entries tha have the kme we are looking for \n",
    "            if self.index[i][0] != kmer: # If that location in the index is not equal to our kmer, our list is sorted so all kmers of the same type will be together\n",
    "                break   # Once we find an entry that is not equal to that we can break\n",
    "            hits.append(self.index[i][1]) # If we do find the it equal we want to append that index in t to our hits list. So we append second value of tuple\n",
    "            i += 1\n",
    "        return hits  # List if all indics in t where p matches or where the first k bases of p match t\n",
    "    \n",
    "            \n",
    "        \n",
    "        "
   ]
  },
  {
   "cell_type": "code",
   "execution_count": 8,
   "metadata": {},
   "outputs": [],
   "source": [
    "# Use the Index object to match a full pattern in a string t\n",
    "\n",
    "def queryIndex(p, t, index): # Query fuction takes input pattern, string and index we created from t\n",
    "    k = index.k # get the length of k from the index we created\n",
    "    offsets = [] #List of offsets where it matches\n",
    "    for i in index.query(p): # the query function from the Index object returns a list of possible places in t where p could start,\n",
    "        if p[k:] == t[i+k:i+len(p)]:    #The query function gives us where the 1st k bases of p match k bases of t. \n",
    "            offsets.append(i)           #But we need to VERIFY if the rest of the string p matches t in that location\n",
    "    return offsets                      # example: t=\"TAGACTAC\",p=\"ACTA\", i=3, k=3, p[k:]->p[3:]->'A'\n",
    "                                        # t[i+k:i+len(p)]->t[6:3+4]->t[6:7]->'A'\n",
    "                                            "
   ]
  },
  {
   "cell_type": "code",
   "execution_count": 9,
   "metadata": {},
   "outputs": [],
   "source": [
    "# An example\n",
    "t = 'GCTACGATCTAGAATCTA'\n",
    "p = 'TCTA'"
   ]
  },
  {
   "cell_type": "code",
   "execution_count": 10,
   "metadata": {},
   "outputs": [
    {
     "name": "stdout",
     "output_type": "stream",
     "text": [
      "[7, 14]\n"
     ]
    }
   ],
   "source": [
    "index = Index(t, 2) #Get the Index object by passing in t and kmer length k which is less than length of p which is 3\n",
    "print(queryIndex(p, t, index)) # use the query index function and pass in the patttern, text and the index object"
   ]
  },
  {
   "cell_type": "code",
   "execution_count": 11,
   "metadata": {},
   "outputs": [
    {
     "data": {
      "text/plain": [
       "'TCTA'"
      ]
     },
     "execution_count": 11,
     "metadata": {},
     "output_type": "execute_result"
    }
   ],
   "source": [
    "# Check\n",
    "t[7:11]"
   ]
  },
  {
   "cell_type": "code",
   "execution_count": 13,
   "metadata": {},
   "outputs": [
    {
     "data": {
      "text/plain": [
       "'TCTA'"
      ]
     },
     "execution_count": 13,
     "metadata": {},
     "output_type": "execute_result"
    }
   ],
   "source": [
    "t[14:18]"
   ]
  },
  {
   "cell_type": "code",
   "execution_count": null,
   "metadata": {},
   "outputs": [],
   "source": []
  }
 ],
 "metadata": {
  "kernelspec": {
   "display_name": "Python 3",
   "language": "python",
   "name": "python3"
  },
  "language_info": {
   "codemirror_mode": {
    "name": "ipython",
    "version": 3
   },
   "file_extension": ".py",
   "mimetype": "text/x-python",
   "name": "python",
   "nbconvert_exporter": "python",
   "pygments_lexer": "ipython3",
   "version": "3.7.4"
  }
 },
 "nbformat": 4,
 "nbformat_minor": 4
}
