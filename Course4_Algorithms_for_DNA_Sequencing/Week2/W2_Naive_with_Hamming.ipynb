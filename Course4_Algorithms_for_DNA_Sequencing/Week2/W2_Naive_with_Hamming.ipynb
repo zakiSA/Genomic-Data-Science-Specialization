{
 "cells": [
  {
   "cell_type": "code",
   "execution_count": null,
   "metadata": {},
   "outputs": [],
   "source": [
    "def naiveHamming(p, t, maxDistance):\n",
    "    occurrences = [] # List to store occurrences\n",
    "    for i in range(len(t) - len(p) + 1): #Loop oevr alignment\n",
    "        nmm = 0 # Keep track of mismatches\n",
    "        match = True # Set match to True\n",
    "        for j in range(len(p)): # Loop over characters\n",
    "            if t[i+j] != p[j]:  # compare characters\n",
    "                nmm += 1 # Increment number of mismatces by 1\n",
    "                if nmm > maxDist:  #If mismatches exceede hamming distance \n",
    "                    break  # break out of inner loop if mismatches mor than hamming dist otherwise go back to the inner for loop \n",
    "        if nmm <= maxDistance: #If the we get through the inner loop without exceeding maxDistance then add the index i to occurrences\n",
    "            occurrences.append(i)  #approximate match\n",
    "    return occurences        "
   ]
  }
 ],
 "metadata": {
  "kernelspec": {
   "display_name": "Python 3",
   "language": "python",
   "name": "python3"
  },
  "language_info": {
   "codemirror_mode": {
    "name": "ipython",
    "version": 3
   },
   "file_extension": ".py",
   "mimetype": "text/x-python",
   "name": "python",
   "nbconvert_exporter": "python",
   "pygments_lexer": "ipython3",
   "version": "3.7.4"
  }
 },
 "nbformat": 4,
 "nbformat_minor": 4
}
