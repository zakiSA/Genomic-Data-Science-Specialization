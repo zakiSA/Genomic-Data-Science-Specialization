{
 "cells": [
  {
   "cell_type": "code",
   "execution_count": 19,
   "metadata": {},
   "outputs": [],
   "source": [
    "def overlap(a,b, min_length=1): #arguments as two strings a and b and mimimum length of overlap\n",
    "    \"\"\"Return the length of the longest suffix of  'a' matching a prefix of 'b'\n",
    "       that is at least 'min_length' characters long. \n",
    "       If no such overlap exists return 0\"\"\"\n",
    "    start = 0 # start all the way at the left\n",
    "    while True:\n",
    "        start = a.find(b[:min_length], start) # look for b suffix in a\n",
    "                                 # start tells function to start looking from this index in a       \n",
    "        if start == -1:   # no  more occurrence to the right\n",
    "            return 0     #then reurn 0\n",
    "        # Found occurrence: check for full suffix/prefix match to the right\n",
    "        if b.startswith(a[start:]):  # If there is an overlap, verify that prefix of b is equal to suffix of a starting at position start\n",
    "            return len(a) - start  # return the length of the longest overlap\n",
    "        start += 1 # move just past previous position, if its not true we re-enter loop and we need to implement the start by 1 before that  \n",
    "        "
   ]
  },
  {
   "cell_type": "code",
   "execution_count": 24,
   "metadata": {},
   "outputs": [],
   "source": [
    "import itertools \n",
    "\n",
    "def scs(ss):\n",
    "    shortest_sup = None # define shortest superstring\n",
    "    #Loop through the permutations\n",
    "    for ssperm in itertools.permutations(ss):  # for each permuataion of set of strings for permutations of set of strings\n",
    "                                               # since there is no second argument, it will return every possible ordering of list  \n",
    "        sup = ssperm[0]  #Initialize the supersting as the first string \n",
    "        for i in range(len(ss)-1):\n",
    "            olen = overlap(ssperm[i], ssperm[i+1], min_length=1) # The pair of adjacent strings and calcualte the length of the overlap\n",
    "            sup += ssperm[i+1][olen:] # Take the supersting and append the part of the second string that does not overlap the first one ie after the ovrelap until the end of second string\n",
    "        # We have concatenated all these strings, ovrlapping as much as possible to get superstring\n",
    "        \n",
    "        # Check is this supersting is smallest one we have seen so far\n",
    "        if shortest_sup is None or len(sup) < len(shortest_sup):\n",
    "            shortest_sup = sup # If so then shortest superstring is the current supestring\n",
    "    return shortest_sup       \n",
    "            \n",
    "            "
   ]
  },
  {
   "cell_type": "code",
   "execution_count": 25,
   "metadata": {},
   "outputs": [
    {
     "data": {
      "text/plain": [
       "'GACACGGTACGAGCTTCGGA'"
      ]
     },
     "execution_count": 25,
     "metadata": {},
     "output_type": "execute_result"
    }
   ],
   "source": [
    "scs(['ACGGTACGAGC', 'GAGCTTCGGA', 'GACACGG'])"
   ]
  },
  {
   "cell_type": "code",
   "execution_count": 26,
   "metadata": {},
   "outputs": [],
   "source": [
    "import itertools \n",
    "\n",
    "def scs(ss):\n",
    "    shortest_sup = None\n",
    "    for ssperm in itertools.permutations(ss): \n",
    "        sup = ssperm[0] \n",
    "        print('ssperm', ssperm)\n",
    "        for i in range(len(ss)-1):\n",
    "            print('ssperm[i]', ssperm[i], 'ssperm[i+1]', ssperm[i+1])\n",
    "            olen = overlap(ssperm[i], ssperm[i+1], min_length=1) \n",
    "            print(olen)\n",
    "            sup += ssperm[i+1][olen:] \n",
    "        if shortest_sup is None or len(sup) < len(shortest_sup):\n",
    "            shortest_sup = sup \n",
    "    return shortest_sup       \n",
    "            \n",
    "            "
   ]
  },
  {
   "cell_type": "code",
   "execution_count": 27,
   "metadata": {},
   "outputs": [
    {
     "name": "stdout",
     "output_type": "stream",
     "text": [
      "ssperm ('ACGGTACGAGC', 'GAGCTTCGGA', 'GACACGG')\n",
      "ssperm[i] ACGGTACGAGC ssperm[i+1] GAGCTTCGGA\n",
      "4\n",
      "ssperm[i] GAGCTTCGGA ssperm[i+1] GACACGG\n",
      "2\n",
      "ssperm ('ACGGTACGAGC', 'GACACGG', 'GAGCTTCGGA')\n",
      "ssperm[i] ACGGTACGAGC ssperm[i+1] GACACGG\n",
      "0\n",
      "ssperm[i] GACACGG ssperm[i+1] GAGCTTCGGA\n",
      "1\n",
      "ssperm ('GAGCTTCGGA', 'ACGGTACGAGC', 'GACACGG')\n",
      "ssperm[i] GAGCTTCGGA ssperm[i+1] ACGGTACGAGC\n",
      "1\n",
      "ssperm[i] ACGGTACGAGC ssperm[i+1] GACACGG\n",
      "0\n",
      "ssperm ('GAGCTTCGGA', 'GACACGG', 'ACGGTACGAGC')\n",
      "ssperm[i] GAGCTTCGGA ssperm[i+1] GACACGG\n",
      "2\n",
      "ssperm[i] GACACGG ssperm[i+1] ACGGTACGAGC\n",
      "4\n",
      "ssperm ('GACACGG', 'ACGGTACGAGC', 'GAGCTTCGGA')\n",
      "ssperm[i] GACACGG ssperm[i+1] ACGGTACGAGC\n",
      "4\n",
      "ssperm[i] ACGGTACGAGC ssperm[i+1] GAGCTTCGGA\n",
      "4\n",
      "ssperm ('GACACGG', 'GAGCTTCGGA', 'ACGGTACGAGC')\n",
      "ssperm[i] GACACGG ssperm[i+1] GAGCTTCGGA\n",
      "1\n",
      "ssperm[i] GAGCTTCGGA ssperm[i+1] ACGGTACGAGC\n",
      "1\n"
     ]
    },
    {
     "data": {
      "text/plain": [
       "'GACACGGTACGAGCTTCGGA'"
      ]
     },
     "execution_count": 27,
     "metadata": {},
     "output_type": "execute_result"
    }
   ],
   "source": [
    "scs(['ACGGTACGAGC', 'GAGCTTCGGA', 'GACACGG'])"
   ]
  },
  {
   "cell_type": "code",
   "execution_count": null,
   "metadata": {},
   "outputs": [],
   "source": []
  }
 ],
 "metadata": {
  "kernelspec": {
   "display_name": "Python 3",
   "language": "python",
   "name": "python3"
  },
  "language_info": {
   "codemirror_mode": {
    "name": "ipython",
    "version": 3
   },
   "file_extension": ".py",
   "mimetype": "text/x-python",
   "name": "python",
   "nbconvert_exporter": "python",
   "pygments_lexer": "ipython3",
   "version": "3.7.4"
  }
 },
 "nbformat": 4,
 "nbformat_minor": 4
}
