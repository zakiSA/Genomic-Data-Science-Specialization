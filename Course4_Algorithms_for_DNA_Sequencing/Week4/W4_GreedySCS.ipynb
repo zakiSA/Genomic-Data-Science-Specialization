{
 "cells": [
  {
   "cell_type": "code",
   "execution_count": 1,
   "metadata": {},
   "outputs": [],
   "source": [
    "def overlap(a,b, min_length=1): #arguments as two strings a and b and mimimum length of overlap\n",
    "    \"\"\"Return the length of the longest suffix of  'a' matching a prefix of 'b'\n",
    "       that is at least 'min_length' characters long. \n",
    "       If no such overlap exists return 0\"\"\"\n",
    "    start = 0 # start all the way at the left\n",
    "    while True:\n",
    "        start = a.find(b[:min_length], start) # look for b suffix in a\n",
    "                                 # start tells function to start looking from this index in a       \n",
    "        if start == -1:   # no  more occurrence to the right\n",
    "            return 0     #then reurn 0\n",
    "        # Found occurrence: check for full suffix/prefix match to the right\n",
    "        if b.startswith(a[start:]):  # If there is an overlap, verify that prefix of b is equal to suffix of a starting at position start\n",
    "            return len(a) - start  # return the length of the longest overlap\n",
    "        start += 1 # move just past previous position, if its not true we re-enter loop and we need to implement the start by 1 before that  \n",
    "        "
   ]
  },
  {
   "cell_type": "code",
   "execution_count": 2,
   "metadata": {},
   "outputs": [],
   "source": [
    "import itertools \n",
    "\n",
    "def scs(ss):\n",
    "    \"\"\"Returns the shortest supersting given a set of reads\"\"\"\n",
    "    shortest_sup = None # define shortest superstring\n",
    "    #Loop through the permutations\n",
    "    for ssperm in itertools.permutations(ss):  # for each permuataion of set of strings for permutations of set of strings\n",
    "                                               # since there is no second argument, it will return every possible ordering of list  \n",
    "        sup = ssperm[0]  #Initialize the supersting as the first string \n",
    "        for i in range(len(ss)-1):\n",
    "            olen = overlap(ssperm[i], ssperm[i+1], min_length=1) # The pair of adjacent strings and calcualte the length of the overlap\n",
    "            sup += ssperm[i+1][olen:] # Take the supersting and append the part of the second string that does not overlap the first one ie after the ovrelap until the end of second string\n",
    "        # We have concatenated all these strings, ovrlapping as much as possible to get superstring\n",
    "        \n",
    "        # Check is this supersting is smallest one we have seen so far\n",
    "        if shortest_sup is None or len(sup) < len(shortest_sup):\n",
    "            shortest_sup = sup # If so then shortest superstring is the current supestring\n",
    "    return shortest_sup       "
   ]
  },
  {
   "cell_type": "code",
   "execution_count": 3,
   "metadata": {},
   "outputs": [],
   "source": [
    "def pick_maximal_overlap(reads, k): # Input set of reads and minimum overlap k\n",
    "    \"\"\"Given a set of reads and minimum overlap k the function returns the pair of reads with maximal overlap along with that overlap\"\"\"\n",
    "    reada, readb = None, None # Defien reads a and b\n",
    "    best_olen = 0\n",
    "    for a,b in itertools.permutations(reads, 2): # 2nd argument we will compare a pair of reads\n",
    "        olen = overlap(a, b, min_length=k)\n",
    "        if olen > best_olen:\n",
    "            reada, readb = a, b # If this is the best overlap length so far \n",
    "            best_olen = olen\n",
    "    return reada, readb, best_olen    \n",
    "            "
   ]
  },
  {
   "cell_type": "code",
   "execution_count": 4,
   "metadata": {},
   "outputs": [],
   "source": [
    "def greedy_scs(reads, k): # Input is set of reads and minimum overlap k\n",
    "    \"\"\"Given a set of reads and minimum overlap k the function returns the sgreedy shortest superstring\"\"\"\n",
    "    read_a, read_b, olen = pick_maximal_overlap(reads, k) # Calculate the maximal overlap\n",
    "    while olen > 0: # while the length of overlap is greater than 0\n",
    "        print('reads', reads)\n",
    "        reads.remove(read_a) # remove reads a and b from reads \n",
    "        reads.remove(read_b) #  eg.AAAB and AAB with AAAB\n",
    "        print('reads1', reads) # left with redas minus a and b\n",
    "        reads.append(read_a + read_b[olen:]) # append to reads the combination of the reads, read_a + suffix of read_b\n",
    "        print('reads2', reads)\n",
    "        read_a, read_b, olen = pick_maximal_overlap(reads, k) # Get the new reads a and b with max overlap\n",
    "        print('reads3', reads)\n",
    "    return ''.join(reads) # after joining all reads with overlap concatenate all the remaining reads and return   "
   ]
  },
  {
   "cell_type": "code",
   "execution_count": 40,
   "metadata": {},
   "outputs": [
    {
     "name": "stdout",
     "output_type": "stream",
     "text": [
      "reads ['ABC', 'BCA', 'CAB']\n",
      "reads1 ['CAB']\n",
      "reads2 ['CAB', 'ABCA']\n",
      "reads3 ['CAB', 'ABCA']\n",
      "reads ['CAB', 'ABCA']\n",
      "reads1 []\n",
      "reads2 ['CABCA']\n",
      "reads3 ['CABCA']\n"
     ]
    },
    {
     "data": {
      "text/plain": [
       "'CABCA'"
      ]
     },
     "execution_count": 40,
     "metadata": {},
     "output_type": "execute_result"
    }
   ],
   "source": [
    "greedy_scs(['ABC', 'BCA', 'CAB'], 2)"
   ]
  },
  {
   "cell_type": "code",
   "execution_count": 42,
   "metadata": {},
   "outputs": [],
   "source": [
    "def greedy_scs(reads, k):\n",
    "    read_a, read_b, olen = pick_maximal_overlap(reads, k)\n",
    "    while olen > 0:\n",
    "        reads.remove(read_a)\n",
    "        reads.remove(read_b)\n",
    "        reads.append(read_a + read_b[olen:])\n",
    "        read_a, read_b, olen = pick_maximal_overlap(reads, k)\n",
    "    return ''.join(reads)    "
   ]
  },
  {
   "cell_type": "code",
   "execution_count": 38,
   "metadata": {},
   "outputs": [
    {
     "data": {
      "text/plain": [
       "'CABCA'"
      ]
     },
     "execution_count": 38,
     "metadata": {},
     "output_type": "execute_result"
    }
   ],
   "source": [
    "# Example where greedyscs gives us shortest superstring\n",
    "greedy_scs(['ABC', 'BCA', 'CAB'], 2)"
   ]
  },
  {
   "cell_type": "code",
   "execution_count": 43,
   "metadata": {},
   "outputs": [
    {
     "data": {
      "text/plain": [
       "'CDBCABCDA'"
      ]
     },
     "execution_count": 43,
     "metadata": {},
     "output_type": "execute_result"
    }
   ],
   "source": [
    "# Example where greedy scs does not give us shortest super string\n",
    "# The greed method\n",
    "greedy_scs(['ABCD', 'CDBC', 'BCDA'], 1)"
   ]
  },
  {
   "cell_type": "code",
   "execution_count": 46,
   "metadata": {},
   "outputs": [
    {
     "data": {
      "text/plain": [
       "'ABCDBCDA'"
      ]
     },
     "execution_count": 46,
     "metadata": {},
     "output_type": "execute_result"
    }
   ],
   "source": [
    "# Example with scs(brute force method) gives the shortest superstring\n",
    "scs(['ABCD', 'CDBC', 'BCDA'])"
   ]
  },
  {
   "cell_type": "code",
   "execution_count": null,
   "metadata": {},
   "outputs": [],
   "source": []
  }
 ],
 "metadata": {
  "kernelspec": {
   "display_name": "Python 3",
   "language": "python",
   "name": "python3"
  },
  "language_info": {
   "codemirror_mode": {
    "name": "ipython",
    "version": 3
   },
   "file_extension": ".py",
   "mimetype": "text/x-python",
   "name": "python",
   "nbconvert_exporter": "python",
   "pygments_lexer": "ipython3",
   "version": "3.7.4"
  }
 },
 "nbformat": 4,
 "nbformat_minor": 4
}
