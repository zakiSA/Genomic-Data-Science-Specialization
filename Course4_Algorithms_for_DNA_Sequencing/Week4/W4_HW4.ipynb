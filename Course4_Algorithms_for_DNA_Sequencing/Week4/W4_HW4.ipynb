{
 "cells": [
  {
   "cell_type": "markdown",
   "metadata": {},
   "source": [
    "### Algorithms for DNA Sequencing: Programming Homework 4\n",
    "\n",
    "In a practical, we saw a function for finding the longest exact overlap (suffix/prefix match) between two strings. The function is copied below."
   ]
  },
  {
   "cell_type": "code",
   "execution_count": null,
   "metadata": {
    "id": "fc2FVnap_ZIZ"
   },
   "outputs": [],
   "source": [
    "\n",
    "def overlap(a, b, min_length=3):\n",
    "    \"\"\" Return length of longest suffix of 'a' matching\n",
    "        a prefix of 'b' that is at least 'min_length'\n",
    "        characters long.  If no such overlap exists,\n",
    "        return 0. \"\"\"\n",
    "    start = 0  # start all the way at the left\n",
    "    while True:\n",
    "        start = a.find(b[:min_length], start)  # look for b's suffx in a\n",
    "        if start == -1:  # no more occurrences to right\n",
    "            return 0\n",
    "        # found occurrence; check for full suffix/prefix match\n",
    "        if b.startswith(a[start:]):\n",
    "            return len(a)-start\n",
    "        start += 1  # move just past previous match\n",
    "\n",
    "import itertools\n",
    "\n",
    "def scs(ss):\n",
    "    \"\"\" Returns shortest common superstring of given\n",
    "        strings, which must be the same length \"\"\"\n",
    "    shortest_sup = None\n",
    "    for ssperm in itertools.permutations(ss):\n",
    "        sup = ssperm[0]  # superstring starts as first string\n",
    "        for i in range(len(ss)-1):\n",
    "            # overlap adjacent strings A and B in the permutation\n",
    "            olen = overlap(ssperm[i], ssperm[i+1], min_length=1)\n",
    "            # add non-overlapping portion of B to superstring\n",
    "            sup += ssperm[i+1][olen:]\n",
    "        if shortest_sup is None or len(sup) < len(shortest_sup):\n",
    "            shortest_sup = sup  # found shorter superstring\n",
    "    return shortest_sup  # return shortest\n"
   ]
  },
  {
   "cell_type": "markdown",
   "metadata": {},
   "source": [
    "It's possible for there to be multiple different shortest common superstrings for the same set of input strings. Consider the input strings ABC, BCA, CAB. One shortest common superstring is ABCAB but another is BCABC and another is CABCA.\n"
   ]
  },
  {
   "cell_type": "markdown",
   "metadata": {
    "id": "bz2SLrAEAyd2"
   },
   "source": [
    "\n",
    "Q1: What is the length of the shortest common superstring of the following strings?\n",
    "CCT, CTT, TGC, TGG, GAT, ATT"
   ]
  },
  {
   "cell_type": "code",
   "execution_count": null,
   "metadata": {
    "id": "5fygqT9I_YWu"
   },
   "outputs": [],
   "source": [
    "def overlap(a, b, min_length=1):\n",
    "    \"\"\" Return length of longest suffix of 'a' matching\n",
    "        a prefix of 'b' that is at least 'min_length'\n",
    "        characters long.  If no such overlap exists,\n",
    "        return 0. \"\"\"\n",
    "    start = 0  # start all the way at the left\n",
    "    while True:\n",
    "        start = a.find(b[:min_length], start)  # look for b's suffx in a\n",
    "        if start == -1:  # no more occurrences to right\n",
    "            return 0\n",
    "        # found occurrence; check for full suffix/prefix match\n",
    "        if b.startswith(a[start:]):\n",
    "            return len(a)-start\n",
    "        start += 1  # move just past previous match\n",
    "\n",
    "import itertools\n",
    "\n",
    "def scs(ss):\n",
    "    \"\"\" Returns shortest common superstring of given\n",
    "        strings, which must be the same length \"\"\"\n",
    "    shortest_sup = None\n",
    "    for ssperm in itertools.permutations(ss):\n",
    "        sup = ssperm[0]  # superstring starts as first string\n",
    "        for i in range(len(ss)-1):\n",
    "            # overlap adjacent strings A and B in the permutation\n",
    "            olen = overlap(ssperm[i], ssperm[i+1], min_length=1)\n",
    "            # add non-overlapping portion of B to superstring\n",
    "            sup += ssperm[i+1][olen:]\n",
    "        if shortest_sup is None or len(sup) < len(shortest_sup):\n",
    "            shortest_sup = sup  # found shorter superstring\n",
    "    return shortest_sup  # return shortest"
   ]
  },
  {
   "cell_type": "code",
   "execution_count": null,
   "metadata": {
    "id": "aACUf53o_YWw",
    "outputId": "c07dcf9e-0d2e-4dcb-b2bc-6be99e399e7e"
   },
   "outputs": [
    {
     "data": {
      "text/plain": [
       "'ABCAB'"
      ]
     },
     "execution_count": 85,
     "metadata": {},
     "output_type": "execute_result"
    }
   ],
   "source": [
    "# Shortest common superstring example\n",
    "scs(['ABC', 'BCA', 'CAB'] )"
   ]
  },
  {
   "cell_type": "code",
   "execution_count": null,
   "metadata": {
    "id": "-QQfolW-_YWx",
    "outputId": "c9548e36-89ed-41b9-96ac-b095a0934c7a"
   },
   "outputs": [
    {
     "data": {
      "text/plain": [
       "'CCTTGGATTGC'"
      ]
     },
     "execution_count": 86,
     "metadata": {},
     "output_type": "execute_result"
    }
   ],
   "source": [
    "# problem 1: Shortest Common super string \n",
    "scs(['CCT', 'CTT', 'TGC', 'TGG', 'GAT', 'ATT'])"
   ]
  },
  {
   "cell_type": "markdown",
   "metadata": {
    "id": "OqIiVUtSBH6t"
   },
   "source": [
    "Q2: How many different shortest common superstrings are there for the input strings given in the previous question?\n",
    "\n",
    "Hint 1: You can modify the scs function to keep track of this. \n",
    "\n",
    "Hint 2: You can look at these examples to double-check that your modified scs is working as expected. "
   ]
  },
  {
   "cell_type": "markdown",
   "metadata": {
    "id": "K3fTSjAwBRPk"
   },
   "source": [
    "Examples for Q2:"
   ]
  },
  {
   "cell_type": "code",
   "execution_count": null,
   "metadata": {
    "id": "4OpcGCHOBcgE"
   },
   "outputs": [],
   "source": [
    "# This function is given in the assignment\n",
    "from scs import scs\n",
    "\n",
    "# You have to implement this function, or something like it\n",
    "from scs_list import scs_list"
   ]
  },
  {
   "cell_type": "markdown",
   "metadata": {
    "id": "KH7K9pcfBhFM"
   },
   "source": [
    "Example 1:"
   ]
  },
  {
   "cell_type": "code",
   "execution_count": null,
   "metadata": {
    "id": "wRMt2LCPBeQs"
   },
   "outputs": [],
   "source": [
    "strings = ['ABC', 'BCA', 'CAB']"
   ]
  },
  {
   "cell_type": "code",
   "execution_count": null,
   "metadata": {
    "id": "K8GvIVrIBrjc"
   },
   "outputs": [],
   "source": [
    "# Returns just one shortest superstring\n",
    "scs(strings)"
   ]
  },
  {
   "cell_type": "markdown",
   "metadata": {
    "id": "AH3ka3wUBvVE"
   },
   "source": [
    "Expected output: 'ABCAB'"
   ]
  },
  {
   "cell_type": "code",
   "execution_count": null,
   "metadata": {
    "id": "2XawtxgMB7Uk"
   },
   "outputs": [],
   "source": [
    "# Returns list of all superstrings that are tied for shorest\n",
    "scs_list(strings)"
   ]
  },
  {
   "cell_type": "markdown",
   "metadata": {
    "id": "9ysJgSrRB_wE"
   },
   "source": [
    "Expected output: ['ABCAB', 'BCABC', 'CABCA']"
   ]
  },
  {
   "cell_type": "markdown",
   "metadata": {
    "id": "xXiApuxiCH6U"
   },
   "source": [
    "Example 2:"
   ]
  },
  {
   "cell_type": "code",
   "execution_count": null,
   "metadata": {
    "id": "cLUb7fHMCJ5c"
   },
   "outputs": [],
   "source": [
    "strings = ['GAT', 'TAG', 'TCG', 'TGC', 'AAT', 'ATA']"
   ]
  },
  {
   "cell_type": "code",
   "execution_count": null,
   "metadata": {
    "id": "_1baeij3CMGE"
   },
   "outputs": [],
   "source": [
    "# Returns just one shortest superstring\n",
    "scs(strings)"
   ]
  },
  {
   "cell_type": "markdown",
   "metadata": {
    "id": "8S3VK27RCPIE"
   },
   "source": [
    "Expected output: 'TCGATGCAATAG'"
   ]
  },
  {
   "cell_type": "code",
   "execution_count": null,
   "metadata": {
    "id": "sPAXpeG7BsgM"
   },
   "outputs": [],
   "source": [
    "# Returns list of all superstrings that are tied for shorest\n",
    "scs_list(strings)"
   ]
  },
  {
   "cell_type": "markdown",
   "metadata": {
    "id": "tG_pj9ggCjSM"
   },
   "source": [
    "Expected output: ['AATAGATCGTGC',\n",
    " 'AATAGATGCTCG',\n",
    " 'AATAGTCGATGC',\n",
    " 'AATCGATAGTGC',\n",
    " 'AATGCTCGATAG',\n",
    " 'TCGAATAGATGC',\n",
    " 'TCGATAGAATGC',\n",
    " 'TCGATGCAATAG',\n",
    " 'TGCAATAGATCG',\n",
    " 'TGCAATCGATAG']"
   ]
  },
  {
   "cell_type": "markdown",
   "metadata": {
    "id": "4dW0k8biCt8b"
   },
   "source": [
    "Solution for Q2:"
   ]
  },
  {
   "cell_type": "code",
   "execution_count": null,
   "metadata": {
    "id": "OiL_ui8p_YWy"
   },
   "outputs": [],
   "source": [
    "def pick_maximal_overlap(reads, k): # Input set of reads and minimum overlap k\n",
    "    \"\"\"Given a set of reads and minimum overlap k the function returns the pair of reads with maximal overlap along with that overlap\"\"\"\n",
    "    reada, readb = None, None # Define reads a and b\n",
    "    best_olen = 0\n",
    "    for a,b in itertools.permutations(reads, 2): # 2nd argument we will compare a pair of reads\n",
    "        olen = overlap(a, b, min_length=k)\n",
    "        if olen > best_olen:\n",
    "            reada, readb = a, b # If this is the best overlap length so far \n",
    "            best_olen = olen\n",
    "    return reada, readb, best_olen    "
   ]
  },
  {
   "cell_type": "code",
   "execution_count": null,
   "metadata": {
    "id": "_wFfPG21_YWy"
   },
   "outputs": [],
   "source": [
    "def greedy_scs(reads, k): # Input is set of reads and minimum overlap k\n",
    "    \"\"\"Given a set of reads and minimum overlap k the function returns the sgreedy shortest superstring\"\"\"\n",
    "    read_a, read_b, olen = pick_maximal_overlap(reads, k) # Calculate the maximal overlap\n",
    "    while olen > 0: # while the length of overlap is greater than 0\n",
    "        print('reads', reads)\n",
    "        reads.remove(read_a) # remove reads a and b from reads \n",
    "        reads.remove(read_b) #  eg.AAAB and AAB with AAAB\n",
    "        print('reads1', reads) # left with redas minus a and b\n",
    "        reads.append(read_a + read_b[olen:]) # append to reads the combination of the reads, read_a + suffix of read_b\n",
    "        print('reads2', reads)\n",
    "        read_a, read_b, olen = pick_maximal_overlap(reads, k) # Get the new reads a and b with max overlap\n",
    "        print('reads3', reads)\n",
    "    return ''.join(reads) # after joining all reads with overlap concatenate all the remaining reads and return   "
   ]
  },
  {
   "cell_type": "code",
   "execution_count": null,
   "metadata": {
    "collapsed": true,
    "id": "atClObDh_YWz",
    "jupyter": {
     "outputs_hidden": true
    },
    "outputId": "66d0ff04-8076-40ad-f213-17c115847c58"
   },
   "outputs": [
    {
     "name": "stdout",
     "output_type": "stream",
     "text": [
      "reads ['CCT', 'CTT', 'TGC', 'TGG', 'GAT', 'ATT']\n",
      "reads1 ['TGC', 'TGG', 'GAT', 'ATT']\n",
      "reads2 ['TGC', 'TGG', 'GAT', 'ATT', 'CCTT']\n",
      "reads3 ['TGC', 'TGG', 'GAT', 'ATT', 'CCTT']\n",
      "reads ['TGC', 'TGG', 'GAT', 'ATT', 'CCTT']\n",
      "reads1 ['TGC', 'TGG', 'CCTT']\n",
      "reads2 ['TGC', 'TGG', 'CCTT', 'GATT']\n",
      "reads3 ['TGC', 'TGG', 'CCTT', 'GATT']\n",
      "reads ['TGC', 'TGG', 'CCTT', 'GATT']\n",
      "reads1 ['TGG', 'GATT']\n",
      "reads2 ['TGG', 'GATT', 'TGCCTT']\n",
      "reads3 ['TGG', 'GATT', 'TGCCTT']\n",
      "reads ['TGG', 'GATT', 'TGCCTT']\n",
      "reads1 ['TGCCTT']\n",
      "reads2 ['TGCCTT', 'TGGATT']\n",
      "reads3 ['TGCCTT', 'TGGATT']\n",
      "reads ['TGCCTT', 'TGGATT']\n",
      "reads1 []\n",
      "reads2 ['TGCCTTGGATT']\n",
      "reads3 ['TGCCTTGGATT']\n"
     ]
    },
    {
     "data": {
      "text/plain": [
       "'TGCCTTGGATT'"
      ]
     },
     "execution_count": 89,
     "metadata": {},
     "output_type": "execute_result"
    }
   ],
   "source": [
    "greedy_scs(['CCT', 'CTT', 'TGC', 'TGG', 'GAT', 'ATT'], 1)"
   ]
  },
  {
   "cell_type": "code",
   "execution_count": null,
   "metadata": {
    "id": "uMgtlyRJ_YWz"
   },
   "outputs": [],
   "source": [
    "# Question 1\n",
    "def count_sup(reads, k):\n",
    "    sup_list =[]\n",
    "    for a,b in itertools.permutations(reads, 2):\n",
    "        new_sup = greedy_scs(reads, 2)\n",
    "        if new_sup not in sup_list:\n",
    "            sup_list.append(new_sup)\n",
    "    return sup_list    "
   ]
  },
  {
   "cell_type": "code",
   "execution_count": null,
   "metadata": {
    "collapsed": true,
    "id": "paOY0X8D_YW0",
    "jupyter": {
     "outputs_hidden": true
    },
    "outputId": "90a25b75-2662-458a-f96a-07543450dd36"
   },
   "outputs": [
    {
     "name": "stdout",
     "output_type": "stream",
     "text": [
      "reads ['ABC', 'BCA', 'CAB']\n",
      "reads1 ['CAB']\n",
      "reads2 ['CAB', 'ABCA']\n",
      "reads3 ['CAB', 'ABCA']\n",
      "reads ['CAB', 'ABCA']\n",
      "reads1 []\n",
      "reads2 ['CABCA']\n",
      "reads3 ['CABCA']\n"
     ]
    }
   ],
   "source": [
    "new_sup_list = count_sup(['ABC', 'BCA', 'CAB'], 1)"
   ]
  },
  {
   "cell_type": "code",
   "execution_count": null,
   "metadata": {
    "id": "kpF5u3GM_YW0"
   },
   "outputs": [],
   "source": [
    "p =(['ABC', 'BCA', 'CAB'])"
   ]
  },
  {
   "cell_type": "code",
   "execution_count": null,
   "metadata": {
    "id": "n_M69mJm_YW0"
   },
   "outputs": [],
   "source": [
    "from itertools import permutations\n",
    "perm_list = (list(permutations(p)))"
   ]
  },
  {
   "cell_type": "code",
   "execution_count": null,
   "metadata": {
    "id": "8ZcSNKYT_YW1",
    "outputId": "2fc143ce-63dc-453d-f367-66ae3dfa28b8"
   },
   "outputs": [
    {
     "data": {
      "text/plain": [
       "[('ABC', 'BCA', 'CAB'),\n",
       " ('ABC', 'CAB', 'BCA'),\n",
       " ('BCA', 'ABC', 'CAB'),\n",
       " ('BCA', 'CAB', 'ABC'),\n",
       " ('CAB', 'ABC', 'BCA'),\n",
       " ('CAB', 'BCA', 'ABC')]"
      ]
     },
     "execution_count": 97,
     "metadata": {},
     "output_type": "execute_result"
    }
   ],
   "source": [
    "perm_list"
   ]
  },
  {
   "cell_type": "code",
   "execution_count": null,
   "metadata": {
    "id": "JaoyS_It_YW1"
   },
   "outputs": [],
   "source": [
    "from itertools import permutations\n",
    "\n",
    "def count_sup(reads):\n",
    "        \n",
    "    perm_list = (list(permutations(reads)))\n",
    "    print(perm_list)\n",
    "    sup_list =[]\n",
    "    for element in perm_list:\n",
    "        element = list(element)\n",
    "        print(element)\n",
    "        new_sup = scs(element)\n",
    "        print(new_sup)\n",
    "        if new_sup not in sup_list:\n",
    "            sup_list.append(new_sup)\n",
    "    return sup_list    "
   ]
  },
  {
   "cell_type": "code",
   "execution_count": null,
   "metadata": {
    "collapsed": true,
    "id": "W4O9NQoK_YW1",
    "jupyter": {
     "outputs_hidden": true
    },
    "outputId": "fbd16310-e377-45cc-b27a-57be3d4b2ef3"
   },
   "outputs": [
    {
     "name": "stdout",
     "output_type": "stream",
     "text": [
      "[('ABC', 'BCA', 'CAB'), ('ABC', 'CAB', 'BCA'), ('BCA', 'ABC', 'CAB'), ('BCA', 'CAB', 'ABC'), ('CAB', 'ABC', 'BCA'), ('CAB', 'BCA', 'ABC')]\n",
      "['ABC', 'BCA', 'CAB']\n",
      "ABCAB\n",
      "['ABC', 'CAB', 'BCA']\n",
      "ABCAB\n",
      "['BCA', 'ABC', 'CAB']\n",
      "BCABC\n",
      "['BCA', 'CAB', 'ABC']\n",
      "BCABC\n",
      "['CAB', 'ABC', 'BCA']\n",
      "CABCA\n",
      "['CAB', 'BCA', 'ABC']\n",
      "CABCA\n"
     ]
    }
   ],
   "source": [
    "#Example 1\n",
    "sup_list = count_sup(['ABC', 'BCA', 'CAB'])"
   ]
  },
  {
   "cell_type": "code",
   "execution_count": null,
   "metadata": {
    "collapsed": true,
    "id": "1SJFQDzU_YW2",
    "jupyter": {
     "outputs_hidden": true
    }
   },
   "outputs": [],
   "source": [
    "#Example 2\n",
    "sup_list = count_sup(['GAT', 'TAG', 'TCG', 'TGC', 'AAT', 'ATA'])"
   ]
  },
  {
   "cell_type": "code",
   "execution_count": null,
   "metadata": {
    "collapsed": true,
    "id": "lxHJx6FB_YW2",
    "jupyter": {
     "outputs_hidden": true
    }
   },
   "outputs": [],
   "source": [
    "# Answer Prob 2\n",
    "sup_list = count_sup(['CCT', 'CTT', 'TGC', 'TGG', 'GAT', 'ATT'])"
   ]
  },
  {
   "cell_type": "code",
   "execution_count": null,
   "metadata": {
    "id": "aeWn8GBs_YW2",
    "outputId": "55d728dc-ef06-4312-a8bc-4d7f521bfbea"
   },
   "outputs": [
    {
     "data": {
      "text/plain": [
       "['CCTTGGATTGC', 'TGCCTTGGATT', 'TGGATTGCCTT', 'GATTGCCTTGG']"
      ]
     },
     "execution_count": 102,
     "metadata": {},
     "output_type": "execute_result"
    }
   ],
   "source": [
    "sup_list"
   ]
  },
  {
   "cell_type": "markdown",
   "metadata": {
    "id": "2F-zJ8JWEl1b"
   },
   "source": [
    "Question 3: Download this FASTQ file containing synthetic sequencing reads from a mystery virus:\n",
    "\n",
    "https://d28rh4a8wq0iu5.cloudfront.net/ads1/data/ads1_week4_reads.fq\n",
    "\n",
    "All the reads are the same length (100 bases) and are exact copies of substrings from the forward strand of the virus genome.  You don't have to worry about sequencing errors, ploidy, or reads coming from the reverse strand.\n",
    "\n",
    "Assemble these reads using one of the approaches discussed, such as greedy shortest common superstring.  Since there are many reads, you might consider ways to make the algorithm faster, such as the one discussed in the programming assignment in the previous module.\n",
    "\n",
    "How many As are there in the full, assembled genome?\n",
    "\n",
    "Hint: the virus genome you are assembling is exactly 15,894 bases long"
   ]
  },
  {
   "cell_type": "code",
   "execution_count": null,
   "metadata": {
    "id": "5zGcXNfL_YW3"
   },
   "outputs": [],
   "source": [
    "# Read FASTQ function#\n",
    "######################\n",
    "\n",
    "def readFastq(filename):\n",
    "    sequences = []\n",
    "    qualities = []\n",
    "    with open(filename) as fh:\n",
    "        while True:\n",
    "            fh.readline() # skip name line\n",
    "            seq = fh.readline().rstrip() # read base sequence\n",
    "            fh.readline() # skip placeholder line\n",
    "            qual = fh.readline().rstrip() #base quality line\n",
    "            if len(seq) == 0:\n",
    "                break\n",
    "            sequences.append(seq)\n",
    "            qualities.append(qual)\n",
    "    return sequences, qualities"
   ]
  },
  {
   "cell_type": "code",
   "execution_count": null,
   "metadata": {
    "id": "SXlI1snG_YW3"
   },
   "outputs": [],
   "source": [
    "seq_reads, _ = readFastq('ads1_week4_reads.fq')"
   ]
  },
  {
   "cell_type": "code",
   "execution_count": null,
   "metadata": {
    "id": "HATUI08F_YW3",
    "outputId": "3dbd4ad3-97c4-4d27-ba1c-08cee010f6c1"
   },
   "outputs": [
    {
     "data": {
      "text/plain": [
       "1881"
      ]
     },
     "execution_count": 3,
     "metadata": {},
     "output_type": "execute_result"
    }
   ],
   "source": [
    "len(seq_reads)"
   ]
  },
  {
   "cell_type": "markdown",
   "metadata": {
    "id": "LNx3gjOl_YW3"
   },
   "source": [
    "HW Question 3 and 4 using overlap function and original maximal overlap function"
   ]
  },
  {
   "cell_type": "code",
   "execution_count": null,
   "metadata": {
    "id": "BFsyeavF_YW4"
   },
   "outputs": [],
   "source": [
    "# Answer 3 & 4\n",
    "#Build dictionary of kmers\n",
    "from collections import defaultdict\n",
    "\n",
    "def kmer_dictionary(reads,k):    \n",
    "    kmer_dict = defaultdict()\n",
    "    for read in reads:\n",
    "        for i in range(len(read)): # go through list of reads\n",
    "            kmer = read[i:i+k] # get the k-mers\n",
    "            if len(kmer)== k:  # if k-mer is of length k\n",
    "                if kmer not in kmer_dict:  #Add k-mer as key of dict\n",
    "                    kmer_dict[kmer] = set() # initialize all values as empty set()\n",
    "                kmer_dict[kmer].add(read)  # Add the read that the kmer is found in to the set of values  \n",
    "    return kmer_dict   "
   ]
  },
  {
   "cell_type": "code",
   "execution_count": null,
   "metadata": {
    "id": "ytkC97jx_YW4"
   },
   "outputs": [],
   "source": [
    "def overlap(a, b, min_length=3):\n",
    "    \"\"\" Return length of longest suffix of 'a' matching\n",
    "        a prefix of 'b' that is at least 'min_length'\n",
    "        characters long.  If no such overlap exists,\n",
    "        return 0. \"\"\"\n",
    "    start = 0  # start all the way at the left\n",
    "    while True:\n",
    "        start = a.find(b[:min_length], start)  # look for b's suffx in a\n",
    "        if start == -1:  # no more occurrences to right\n",
    "            return 0\n",
    "        # found occurrence; check for full suffix/prefix match\n",
    "        if b.startswith(a[start:]):\n",
    "            return len(a)-start\n",
    "        start += 1  # move just past previous match\n"
   ]
  },
  {
   "cell_type": "code",
   "execution_count": null,
   "metadata": {
    "id": "j2RlinAQ_YW4"
   },
   "outputs": [],
   "source": [
    "import itertools  \n",
    "\n",
    "def pick_maximal_overlap(reads, k): # Input set of reads and minimum overlap k\n",
    "    \"\"\"Given a set of reads and minimum overlap k the function returns the pair of reads with maximal overlap along with that overlap\"\"\"\n",
    "    reada, readb = None, None # Defien reads a and b\n",
    "    best_olen = 0\n",
    "    for a,b in itertools.permutations(reads, 2): # 2nd argument we will compare a pair of reads\n",
    "        olen = overlap(a, b, k)\n",
    "        if olen > best_olen:\n",
    "            reada, readb = a, b # If this is the best overlap length so far \n",
    "            best_olen = olen\n",
    "    return reada, readb, best_olen    "
   ]
  },
  {
   "cell_type": "code",
   "execution_count": null,
   "metadata": {
    "id": "YbzdVV9Y_YW5"
   },
   "outputs": [],
   "source": [
    "def greedy_scs(reads, k): # Input is set of reads and minimum overlap k\n",
    "    \"\"\"Given a set of reads and minimum overlap k the function returns the greedy shortest superstring\"\"\"\n",
    "    read_a, read_b, olen = pick_maximal_overlap(reads, 2) # Calculate the maximal overlap\n",
    "    while olen > 0: # while the length of overlap is greater than 0\n",
    "        reads.remove(read_a) # remove reads a and b from reads \n",
    "        reads.remove(read_b) #  eg.AAAB and AAB with AAAB\n",
    "        reads.append(read_a + read_b[olen:]) # append to reads the combination of the reads, read_a + suffix of read_b\n",
    "        read_a, read_b, olen = pick_maximal_overlap(reads, k) # Get the new reads a and b with max overlap\n",
    "    return ''.join(reads) # after joining all reads with overlap concatenate all the remaining reads and return   "
   ]
  },
  {
   "cell_type": "code",
   "execution_count": null,
   "metadata": {
    "id": "zIMn_1xy_YW5"
   },
   "outputs": [],
   "source": [
    "genome = greedy_scs(seq_reads, 30)"
   ]
  },
  {
   "cell_type": "code",
   "execution_count": null,
   "metadata": {
    "id": "s4B1klFU_YW5",
    "outputId": "3fb2410c-8d2d-475e-d788-79ac0ce70f9c"
   },
   "outputs": [
    {
     "data": {
      "text/plain": [
       "15894"
      ]
     },
     "execution_count": 76,
     "metadata": {},
     "output_type": "execute_result"
    }
   ],
   "source": [
    "# Check length of genome (number of bases)\n",
    "len(genome)"
   ]
  },
  {
   "cell_type": "code",
   "execution_count": null,
   "metadata": {
    "id": "U20BPW5N_YW5",
    "outputId": "a03f3964-1f21-44fa-e03f-2532ef3036c9"
   },
   "outputs": [
    {
     "data": {
      "text/plain": [
       "str"
      ]
     },
     "execution_count": 77,
     "metadata": {},
     "output_type": "execute_result"
    }
   ],
   "source": [
    "type(genome)"
   ]
  },
  {
   "cell_type": "code",
   "execution_count": null,
   "metadata": {
    "id": "9RPZG-u2_YW5"
   },
   "outputs": [],
   "source": [
    "# Question 3\n",
    "count_a = 0\n",
    "for i in genome:\n",
    "    if i == 'A':\n",
    "        count_a += 1\n",
    "        "
   ]
  },
  {
   "cell_type": "code",
   "execution_count": null,
   "metadata": {
    "id": "eRcGMJta_YW5",
    "outputId": "00b3125b-5c9c-4e2d-9d80-c09847485229"
   },
   "outputs": [
    {
     "data": {
      "text/plain": [
       "4633"
      ]
     },
     "execution_count": 81,
     "metadata": {},
     "output_type": "execute_result"
    }
   ],
   "source": [
    "count_a"
   ]
  },
  {
   "cell_type": "code",
   "execution_count": null,
   "metadata": {
    "id": "W7Ve_pwG_YW6"
   },
   "outputs": [],
   "source": [
    "# Question 4\n",
    "count_t = 0\n",
    "for i in genome:\n",
    "    if i == 'T':\n",
    "        count_t += 1"
   ]
  },
  {
   "cell_type": "code",
   "execution_count": null,
   "metadata": {
    "id": "NA5QgfDD_YW6",
    "outputId": "7f163e16-0a11-4429-f170-9e2f83df5e66"
   },
   "outputs": [
    {
     "data": {
      "text/plain": [
       "3723"
      ]
     },
     "execution_count": 83,
     "metadata": {},
     "output_type": "execute_result"
    }
   ],
   "source": [
    "count_t"
   ]
  },
  {
   "cell_type": "markdown",
   "metadata": {
    "id": "saRj7U96_YW6"
   },
   "source": [
    "HW  Questons 3 and 4 using modified maximal overlap function to check for suffix prefix match between reads"
   ]
  },
  {
   "cell_type": "code",
   "execution_count": null,
   "metadata": {
    "id": "YtoETGXJ_YW6"
   },
   "outputs": [],
   "source": [
    "def overlap(a, b, min_length=1):\n",
    "    \"\"\" Return length of longest suffix of 'a' matching\n",
    "        a prefix of 'b' that is at least 'min_length'\n",
    "        characters long.  If no such overlap exists,\n",
    "        return 0. \"\"\"\n",
    "    start = 0  # start all the way at the left\n",
    "    while True:\n",
    "        start = a.find(b[:min_length], start)  # look for b's suffx in a\n",
    "        if start == -1:  # no more occurrences to right\n",
    "            return 0\n",
    "        # found occurrence; check for full suffix/prefix match\n",
    "        if b.startswith(a[start:]):\n",
    "            return len(a)-start\n",
    "        start += 1  # move just past previous match\n",
    "\n",
    "import itertools\n"
   ]
  },
  {
   "cell_type": "code",
   "execution_count": null,
   "metadata": {
    "id": "7usiNFlB_YW6"
   },
   "outputs": [],
   "source": [
    "def pick_maximal_overlap(reads, k): # Input set of reads and minimum overlap k\n",
    "    \"\"\"Given a set of reads and minimum overlap k the function returns the pair of reads with maximal overlap along with that overlap\"\"\"\n",
    "    reada, readb = None, None # Defien reads a and b\n",
    "    best_olen = 0\n",
    "    for a,b in itertools.permutations(reads, 2): # 2nd argument we will compare a pair of reads\n",
    "        suffix = a[-k:]\n",
    "        if b.find(suffix):\n",
    "            olen = overlap(a, b, min_length=k)\n",
    "            if olen > best_olen:\n",
    "                reada, readb = a, b # If this is the best overlap length so far \n",
    "                best_olen = olen\n",
    "    return reada, readb, best_olen    "
   ]
  },
  {
   "cell_type": "code",
   "execution_count": null,
   "metadata": {
    "id": "hQQy_oSM_YW6"
   },
   "outputs": [],
   "source": [
    "def greedy_scs(reads, k): # Input is set of reads and minimum overlap k\n",
    "    \"\"\"Given a set of reads and minimum overlap k the function returns the greedy shortest superstring\"\"\"\n",
    "    read_a, read_b, olen = pick_maximal_overlap(reads, 2) # Calculate the maximal overlap\n",
    "    while olen > 0: # while the length of overlap is greater than 0\n",
    "        reads.remove(read_a) # remove reads a and b from reads \n",
    "        reads.remove(read_b) #  eg.AAAB and AAB with AAAB\n",
    "        reads.append(read_a + read_b[olen:]) # append to reads the combination of the reads, read_a + suffix of read_b\n",
    "        read_a, read_b, olen = pick_maximal_overlap(reads, k) # Get the new reads a and b with max overlap\n",
    "    return ''.join(reads) # after joining all reads with overlap concatenate all the remaining reads and return   "
   ]
  },
  {
   "cell_type": "code",
   "execution_count": null,
   "metadata": {
    "id": "sP-ckgbS_YW6"
   },
   "outputs": [],
   "source": [
    "genome = greedy_scs(seq_reads, 30)"
   ]
  },
  {
   "cell_type": "code",
   "execution_count": null,
   "metadata": {
    "id": "n1xgbT5A_YW7",
    "outputId": "4d25faa4-c6fd-40d7-df25-8ff2510e7c73"
   },
   "outputs": [
    {
     "data": {
      "text/plain": [
       "15894"
      ]
     },
     "execution_count": 108,
     "metadata": {},
     "output_type": "execute_result"
    }
   ],
   "source": [
    "len(genome)"
   ]
  },
  {
   "cell_type": "code",
   "execution_count": null,
   "metadata": {
    "id": "P4jaqbmI_YW7"
   },
   "outputs": [],
   "source": [
    "count_a = 0\n",
    "for i in genome:\n",
    "    if i == 'A':\n",
    "        count_a += 1"
   ]
  },
  {
   "cell_type": "code",
   "execution_count": null,
   "metadata": {
    "id": "xA0mjptO_YW7",
    "outputId": "bc4bab8a-fa23-4c71-ddd0-a24b93a46a59"
   },
   "outputs": [
    {
     "data": {
      "text/plain": [
       "4633"
      ]
     },
     "execution_count": 110,
     "metadata": {},
     "output_type": "execute_result"
    }
   ],
   "source": [
    "# Answer Prob 3 \n",
    "count_a"
   ]
  },
  {
   "cell_type": "markdown",
   "metadata": {
    "id": "2a4BFiQlFrSI"
   },
   "source": [
    "Expected output: 4633"
   ]
  },
  {
   "cell_type": "markdown",
   "metadata": {
    "id": "QYPah74EFiT5"
   },
   "source": [
    "Q4: How many Ts are there in the full, assembled genome from the previous question?"
   ]
  },
  {
   "cell_type": "code",
   "execution_count": null,
   "metadata": {
    "id": "LxJQP-lM_YW7"
   },
   "outputs": [],
   "source": [
    "# Question 4\n",
    "count_t = 0\n",
    "for i in genome:\n",
    "    if i == 'T':\n",
    "        count_t += 1"
   ]
  },
  {
   "cell_type": "code",
   "execution_count": null,
   "metadata": {
    "id": "0fW5NcPi_YW7",
    "outputId": "ccffaf2d-92e8-41ae-f42f-6ac3ac65f382"
   },
   "outputs": [
    {
     "data": {
      "text/plain": [
       "3723"
      ]
     },
     "execution_count": 112,
     "metadata": {},
     "output_type": "execute_result"
    }
   ],
   "source": [
    "# Answer Prob 4\n",
    "count_t"
   ]
  },
  {
   "cell_type": "markdown",
   "metadata": {
    "id": "9-4JcXpUFm6Y"
   },
   "source": [
    "Expected output: 3723"
   ]
  }
 ],
 "metadata": {
  "colab": {
   "name": "W4_HW.ipynb",
   "provenance": []
  },
  "kernelspec": {
   "display_name": "Python 3",
   "language": "python",
   "name": "python3"
  },
  "language_info": {
   "codemirror_mode": {
    "name": "ipython",
    "version": 3
   },
   "file_extension": ".py",
   "mimetype": "text/x-python",
   "name": "python",
   "nbconvert_exporter": "python",
   "pygments_lexer": "ipython3",
   "version": "3.7.4"
  }
 },
 "nbformat": 4,
 "nbformat_minor": 4
}
