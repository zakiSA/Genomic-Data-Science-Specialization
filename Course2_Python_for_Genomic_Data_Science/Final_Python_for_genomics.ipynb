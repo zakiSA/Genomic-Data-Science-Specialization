{
 "cells": [
  {
   "cell_type": "markdown",
   "metadata": {
    "id": "FMOTjBpj8Nm5"
   },
   "source": [
    "Genomic Data Science Final Exam  "
   ]
  },
  {
   "cell_type": "code",
   "execution_count": null,
   "metadata": {
    "id": "iLZ9iiXy9PNg"
   },
   "outputs": [],
   "source": [
    "# Mount google drive\n",
    "\n",
    "from google.colab import drive\n",
    "drive.mount('/content/gdrive')"
   ]
  },
  {
   "cell_type": "code",
   "execution_count": null,
   "metadata": {
    "id": "LaMZ4J9m9MVY"
   },
   "outputs": [],
   "source": [
    "#Change working directory to Genomic Data Science\n",
    "%cd /content/gdrive/My\\ Drive/'Genomic Data Science'"
   ]
  },
  {
   "cell_type": "markdown",
   "metadata": {},
   "source": [
    "Q1: How many records are in the multi-FASTA file ?"
   ]
  },
  {
   "cell_type": "code",
   "execution_count": null,
   "metadata": {
    "id": "5WUtzzjL9KMQ"
   },
   "outputs": [],
   "source": [
    "#Check if the file exists\n",
    "try:\n",
    "  f = open('dna2.fasta') # Read file \n",
    "except IOError:\n",
    "  print(\"File does not exist!\") # Error message if file does not exist  "
   ]
  },
  {
   "cell_type": "code",
   "execution_count": null,
   "metadata": {
    "id": "phTgmD249C7x"
   },
   "outputs": [],
   "source": [
    "# Calculate the numbr of records in FASTA file\n",
    "count = 0\n",
    "seqs = {} # Empty dictionary \n",
    "for line in f:\n",
    "  line = line.rstrip() #Discards new line at end if any\n",
    "  if line[0] == \">\":\n",
    "    count += 1  \n",
    "    words = line.split() # Split the header into words at spaces\n",
    "    name = words[0][1:] # Get the name which is the first element of the list\n",
    "    seqs[name] = \"\" # If its a header it inititalizes the value to empty string\n",
    "\n",
    "  else:\n",
    "    seqs[name] = seqs[name] + line # If not header then add line as value to the key name       \n",
    "print(\"Number of records:\",count)\n",
    "print(len(seqs))\n",
    "f.close()"
   ]
  },
  {
   "cell_type": "markdown",
   "metadata": {
    "id": "e6dByYVM9UXw"
   },
   "source": [
    "Number of records = 18"
   ]
  },
  {
   "cell_type": "markdown",
   "metadata": {},
   "source": [
    "Q2: What is the length of the longest sequence in the file?"
   ]
  },
  {
   "cell_type": "code",
   "execution_count": null,
   "metadata": {
    "id": "Opucxw2K8TbJ"
   },
   "outputs": [],
   "source": [
    "#Q2 \n",
    "# Get the sequence with the max length\n",
    "max_len = 0\n",
    "max_id = \"\"\n",
    "for record in SeqIO.parse(\"dna2.fasta\", \"fasta\"):\n",
    "  if len(record) > max_len:\n",
    "    max_len = len(record)\n",
    "    seq_id = record.id\n",
    "\n",
    "\n",
    "print(max_len)    \n",
    "print(seq_id)"
   ]
  },
  {
   "cell_type": "markdown",
   "metadata": {
    "id": "pN-PQnWY8X6J"
   },
   "source": [
    "max length = 4894\n",
    "gi|142022655|gb|EQ086233.1|255"
   ]
  },
  {
   "cell_type": "markdown",
   "metadata": {},
   "source": [
    "Q3: What is the length of the shortest sequence in the file?"
   ]
  },
  {
   "cell_type": "code",
   "execution_count": null,
   "metadata": {
    "id": "hdpomjGz8W5R"
   },
   "outputs": [],
   "source": [
    "#Get sequence with min length\n",
    "min_len = 10**10\n",
    "for record in SeqIO.parse(\"dna2.fasta\", \"fasta\"):\n",
    "  if len(record) < min_len:\n",
    "    min_len = len(record)\n",
    "    seq_id = record.id\n",
    "\n",
    "print(min_len)    \n",
    "print(seq_id)"
   ]
  },
  {
   "cell_type": "markdown",
   "metadata": {
    "id": "YgRmfn2q8fdR"
   },
   "source": [
    "min length = 115\n",
    "gi|142022655|gb|EQ086233.1|346"
   ]
  },
  {
   "cell_type": "code",
   "execution_count": null,
   "metadata": {
    "id": "8XMWmA1y5pW1"
   },
   "outputs": [],
   "source": [
    "# Mount google drive\n",
    "from google.colab import drive\n",
    "drive.mount('/content/gdrive')"
   ]
  },
  {
   "cell_type": "code",
   "execution_count": null,
   "metadata": {
    "id": "iUyKC-S754NC"
   },
   "outputs": [],
   "source": [
    "#Change working directory to Genomic Data Science\n",
    "%cd /content/gdrive/My\\ Drive/'Genomic Data Science'"
   ]
  },
  {
   "cell_type": "code",
   "execution_count": null,
   "metadata": {
    "id": "3koF-k17582K"
   },
   "outputs": [],
   "source": [
    "#Check if file exists\n",
    "\n",
    "try:\n",
    "  f = open('dna2.fasta') # Read file \n",
    "except IOError:\n",
    "  print(\"File does not exist!\") # Error message if file does not exist  "
   ]
  },
  {
   "cell_type": "code",
   "execution_count": null,
   "metadata": {
    "id": "3MxYVOoQ5-K5"
   },
   "outputs": [],
   "source": [
    "#Install Biopython\n",
    "!pip install Biopython"
   ]
  },
  {
   "cell_type": "code",
   "execution_count": null,
   "metadata": {
    "id": "lNK94MfC6E1R"
   },
   "outputs": [],
   "source": [
    "# Import SeqIO module\n",
    "import Bio\n",
    "from Bio import SeqIO # Module for handling Sequence Input and Output operations"
   ]
  },
  {
   "cell_type": "code",
   "execution_count": null,
   "metadata": {
    "id": "K0jDlGK16J-S"
   },
   "outputs": [],
   "source": [
    "# Print id's and length of the sequence in the record\n",
    "for record in SeqIO.parse('dna2.fasta','fasta'):\n",
    "  print(record.id, len(record)) # Prints record id's and sequence length"
   ]
  },
  {
   "cell_type": "markdown",
   "metadata": {
    "id": "Q7uQb1KZ6u4h"
   },
   "source": [
    "Q4: What is the length of the longest ORF appearing in reading frame 2 of any of the sequences?"
   ]
  },
  {
   "cell_type": "code",
   "execution_count": null,
   "metadata": {
    "id": "QTbLx9fn6Mjy"
   },
   "outputs": [],
   "source": [
    "# Functions to find start and stop codons in sequence(FINAL EXAM)\n",
    "def has_start_codon(dna, frame):\n",
    "  start_codon_found = False\n",
    "  start = -1\n",
    "  for i in range(frame, len(dna),3):\n",
    "    codon = dna[i:i+3].lower()\n",
    "    if codon == \"atg\":\n",
    "      start_codon_found = True\n",
    "      start = i\n",
    "      break\n",
    "  #print(start_codon_found)    \n",
    "  return start_codon_found, start   \n",
    "\n",
    "#Has stop codon\n",
    "def has_stop_codon(dna, frame):\n",
    "  stop_codon_found = False\n",
    "  stop = -1\n",
    "  stop_codons = ['tga', 'tag', 'taa']\n",
    "  for i in range(frame, len(dna), 3):\n",
    "    codon = dna[i:i+3].lower()\n",
    "    if codon in stop_codons:\n",
    "      stop_codon_found = True\n",
    "      stop = i\n",
    "      break\n",
    "\n",
    "  #print(stop_codon_found)    \n",
    "  return stop_codon_found, stop    "
   ]
  },
  {
   "cell_type": "markdown",
   "metadata": {},
   "source": [
    "Q6: What is the length of the longest ORF appearing in any sequence and in any forward reading frame?"
   ]
  },
  {
   "cell_type": "code",
   "execution_count": null,
   "metadata": {
    "id": "_LPesH8s6XcS"
   },
   "outputs": [],
   "source": [
    "# Checks for all start and stop codons and gives the longest orf in each frame(FINAL EXAM)\n",
    "\n",
    "orf_dict = {}\n",
    "for record in  SeqIO.parse(\"dna2.fasta\", \"fasta\"):\n",
    "  sequence, id = record.seq, record.id\n",
    "  for position in range(len(sequence)):\n",
    "    start_pos = position\n",
    "    start1_found, start1 = has_start_codon(sequence,start_pos)\n",
    "    if start1_found:\n",
    "      #print(\"start:\", start1)\n",
    "      stop1_found, stop1 = has_stop_codon(sequence,start1)\n",
    "      if stop1_found and start1 < stop1:\n",
    "        #print(\"stop:\", stop1)\n",
    "        #print(\"sequence id:\", id)\n",
    "        orf = sequence[start1:stop1] \n",
    "        #print(\"length of ORF:\", len(orf))\n",
    "        frame = start1%3\n",
    "        #print(\"frame:\", start1%3)\n",
    "        if frame not in orf_dict:\n",
    "          orf_dict[frame]= (len(orf), start1, stop1, id)\n",
    "        if len(orf) > orf_dict[frame][0]:\n",
    "          orf_dict[frame] = (len(orf), start1, stop1, id)\n",
    "print(orf_dict)  "
   ]
  },
  {
   "cell_type": "markdown",
   "metadata": {
    "id": "yA6r2jjs6f_n"
   },
   "source": [
    "**expected answers:**\n",
    "\n",
    "2391 + 3 = 2394 is longest orf in any of the three frames(because we have to include the 3 bases of the stop codon)\n",
    "\n",
    "1455 + 3 = 1458 is the longest orf in frame 2\n"
   ]
  },
  {
   "cell_type": "markdown",
   "metadata": {},
   "source": [
    "Q7: What is the length of the longest forward ORF that appears in the sequence with the identifier  gi|142022655|gb|EQ086233.1|16?"
   ]
  },
  {
   "cell_type": "code",
   "execution_count": null,
   "metadata": {
    "id": "8abaX3Kt6kG5"
   },
   "outputs": [],
   "source": [
    "# Find the longest forward orf for sequence with id \"gi|142022655|gb|EQ086233.1|16\"\n",
    "from Bio import SeqIO\n",
    "\n",
    "record_dict = SeqIO.to_dict(SeqIO.parse(\"dna2.fasta\", \"fasta\"))\n",
    "my_record = record_dict[\"gi|142022655|gb|EQ086233.1|16\"] # use any record ID\n",
    "my_record  \n",
    "my_sequence = my_record.seq\n",
    "len(my_sequence)\n",
    "len_orf = -1\n",
    "for position in range(len(my_sequence)):\n",
    "  start_pos = position\n",
    "  start_found, start = has_start_codon(my_sequence, start_pos)\n",
    "  if start_found:\n",
    "    stop_found, stop = has_stop_codon(my_sequence, start)\n",
    "    if start < stop:\n",
    "      orf = my_sequence[start:stop]\n",
    "      if len(orf) > len_orf:\n",
    "        len_orf = len(orf)\n",
    "print(len_orf)"
   ]
  },
  {
   "cell_type": "markdown",
   "metadata": {
    "id": "NCj0oEiW6pAZ"
   },
   "source": [
    "expected answer for the above is 1641 + 3 = 1644 because we must include the 3 bases of the stop codon"
   ]
  },
  {
   "cell_type": "code",
   "execution_count": null,
   "metadata": {
    "id": "8EHjjMehztmx"
   },
   "outputs": [],
   "source": [
    "# Find most frequent repeat of length 6 in all sequences\n",
    "records = list(SeqIO.parse(\"dna2.fasta\",\"fasta\"))\n",
    "print(len(records))\n",
    "count_of_repeats ={}\n",
    "\n",
    "sum1 = 0\n",
    "for i in range(len(records)):\n",
    "  my_seq = records[i].seq\n",
    "  #print(my_seq)\n",
    "  words_list = split_into_words(my_seq, 6)\n",
    "  sum1 += len(words_list)\n",
    "\n",
    "  #print(words_list)\n",
    "  for word in words_list:  \n",
    "    if word not in count_of_repeats:\n",
    "      count_of_repeats[word] = 1\n",
    "    else:\n",
    "      count_of_repeats[word] += 1\n",
    "\n",
    "#print(count_of_repeats)   \n",
    "print(sorted(count_of_repeats.items(), reverse = True, key = lambda x: x[1]))\n",
    "print(sum1, sum(count_of_repeats.values()))"
   ]
  },
  {
   "cell_type": "markdown",
   "metadata": {},
   "source": [
    "Q8: Find the most frequently occurring repeat of length 6 in all sequences. How many times does it occur in all?"
   ]
  },
  {
   "cell_type": "code",
   "execution_count": null,
   "metadata": {
    "id": "5A0KisnM737J"
   },
   "outputs": [],
   "source": [
    "# Find repeats of length 12 that occur max times\n",
    "# Function to count words of given length\n",
    "#words=[]\n",
    "#counts ={}\n",
    "def split_into_words(dna,num):\n",
    "  words=[]\n",
    "  for i in range(len(dna)-num+1):\n",
    "    word = dna[i:i+num]\n",
    "    words.append(word)\n",
    "  return words  \n",
    "#print(words)  "
   ]
  },
  {
   "cell_type": "markdown",
   "metadata": {
    "id": "4xKMLE0mzyjR"
   },
   "source": [
    "\n",
    "153 times GCGCGC"
   ]
  },
  {
   "cell_type": "markdown",
   "metadata": {},
   "source": [
    "Q9: Find all repeats of length 12 in the input file. Let's use Max to specify the number of copies\n",
    "\n",
    "of the most frequent repeat of length 12.  How many different 12-base sequences \n",
    "\n",
    "occur Max times?"
   ]
  },
  {
   "cell_type": "code",
   "execution_count": null,
   "metadata": {
    "id": "JrYL0fwg0VCA"
   },
   "outputs": [],
   "source": [
    "# Find most frequent repeat of length 12 in all sequences\n",
    "records = list(SeqIO.parse(\"dna2.fasta\",\"fasta\"))\n",
    "print(len(records))\n",
    "count_of_repeats ={}\n",
    "\n",
    "sum1 = 0\n",
    "for i in range(len(records)):\n",
    "  my_seq = records[i].seq\n",
    "  #print(my_seq)\n",
    "  words_list = split_into_words(my_seq, 12)\n",
    "  sum1 += len(words_list)\n",
    "\n",
    "  #print(words_list)\n",
    "  for word in words_list:  \n",
    "    if word not in count_of_repeats:\n",
    "      count_of_repeats[word] = 1\n",
    "    else:\n",
    "      count_of_repeats[word] += 1\n",
    "\n",
    "#print(count_of_repeats)   \n",
    "print(sorted(count_of_repeats.items(), reverse = True, key = lambda x: x[1]))\n",
    "print(sum1, sum(count_of_repeats.values()))"
   ]
  },
  {
   "cell_type": "markdown",
   "metadata": {
    "id": "UvxSpixc0XRo"
   },
   "source": [
    "Find all repeats of length 12 in the input file. Let's use Max to specify the number of copies\n",
    "\n",
    "of the most frequent repeat of length 12. How many different 12-base sequences\n",
    "\n",
    "occur Max times?\n",
    "Three repeats of length 12 occur 4 times\n"
   ]
  },
  {
   "cell_type": "markdown",
   "metadata": {},
   "source": [
    "Q7: Which one of the following repeats of length 7 has a maximum number of occurrences?"
   ]
  },
  {
   "cell_type": "code",
   "execution_count": null,
   "metadata": {
    "id": "nBSFr-cS0Ww4"
   },
   "outputs": [],
   "source": [
    "# Find most frequent repeat of length 7 in all sequences\n",
    "records = list(SeqIO.parse(\"dna2.fasta\",\"fasta\"))\n",
    "print(len(records))\n",
    "count_of_repeats ={}\n",
    "\n",
    "sum1 = 0\n",
    "for i in range(len(records)):\n",
    "  my_seq = records[i].seq\n",
    "  #print(my_seq)\n",
    "  words_list = split_into_words(my_seq, 7)\n",
    "\n",
    "  #print(words_list)\n",
    "  for word in words_list:  \n",
    "    if word not in count_of_repeats:\n",
    "      count_of_repeats[word] = 1\n",
    "    else:\n",
    "      count_of_repeats[word] += 1\n",
    "\n",
    "#print(count_of_repeats)   \n",
    "print(sorted(count_of_repeats.items(), reverse = True, key = lambda x: x[1]))"
   ]
  },
  {
   "cell_type": "markdown",
   "metadata": {
    "id": "3Wluc34u08FP"
   },
   "source": [
    "CGCGCCG occurs 63 times"
   ]
  }
 ],
 "metadata": {
  "colab": {
   "authorship_tag": "ABX9TyPbQg+OfMR9xFnRylTQ2lO3",
   "collapsed_sections": [],
   "name": "Final_Python_for_genomics.ipynb",
   "provenance": []
  },
  "kernelspec": {
   "display_name": "Python 3",
   "language": "python",
   "name": "python3"
  },
  "language_info": {
   "codemirror_mode": {
    "name": "ipython",
    "version": 3
   },
   "file_extension": ".py",
   "mimetype": "text/x-python",
   "name": "python",
   "nbconvert_exporter": "python",
   "pygments_lexer": "ipython3",
   "version": "3.7.4"
  }
 },
 "nbformat": 4,
 "nbformat_minor": 1
}
